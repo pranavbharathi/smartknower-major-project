{
  "nbformat": 4,
  "nbformat_minor": 0,
  "metadata": {
    "kernelspec": {
      "display_name": "Python 3",
      "language": "python",
      "name": "python3"
    },
    "language_info": {
      "codemirror_mode": {
        "name": "ipython",
        "version": 3
      },
      "file_extension": ".py",
      "mimetype": "text/x-python",
      "name": "python",
      "nbconvert_exporter": "python",
      "pygments_lexer": "ipython3",
      "version": "3.7.5"
    },
    "colab": {
      "name": "Covid19.ipynb",
      "provenance": [],
      "include_colab_link": true
    }
  },
  "cells": [
    {
      "cell_type": "markdown",
      "metadata": {
        "id": "view-in-github",
        "colab_type": "text"
      },
      "source": [
        "<a href=\"https://colab.research.google.com/github/pranavbharathi/smartknower-major-project/blob/main/Covid19.ipynb\" target=\"_parent\"><img src=\"https://colab.research.google.com/assets/colab-badge.svg\" alt=\"Open In Colab\"/></a>"
      ]
    },
    {
      "cell_type": "markdown",
      "metadata": {
        "id": "HKxlpWjVYOnr"
      },
      "source": [
        "# COVID-19 Analysis and Forecasting"
      ]
    },
    {
      "cell_type": "markdown",
      "metadata": {
        "id": "2FzviuCsYOnt"
      },
      "source": [
        "## Importing data from the web\n",
        "#### The first task is to retrieve some data from the Internet. Python has many built-in libraries that were developed over the years to do exactly that (e.g. urllib, urllib2, urllib3, requests).<br>\n",
        "#### We will get the data from `ourworldindata.org` as the data is regularly updated here."
      ]
    },
    {
      "cell_type": "code",
      "metadata": {
        "id": "flSJ5wcQYOnu"
      },
      "source": [
        "import requests"
      ],
      "execution_count": null,
      "outputs": []
    },
    {
      "cell_type": "code",
      "metadata": {
        "id": "2qB77YYCYOn0"
      },
      "source": [
        "req = requests.get('https://ourworldindata.org/coronavirus-source-data')"
      ],
      "execution_count": null,
      "outputs": []
    },
    {
      "cell_type": "markdown",
      "metadata": {
        "id": "faw11Yf4YOn5"
      },
      "source": [
        "We can use `dir` to list all the properties of an object."
      ]
    },
    {
      "cell_type": "code",
      "metadata": {
        "id": "7iF2rniUYOn6",
        "outputId": "7508bada-c8de-4c9f-c41f-669027043f63",
        "colab": {
          "base_uri": "https://localhost:8080/",
          "height": 1000
        }
      },
      "source": [
        "dir(req)"
      ],
      "execution_count": null,
      "outputs": [
        {
          "output_type": "execute_result",
          "data": {
            "text/plain": [
              "['__attrs__',\n",
              " '__bool__',\n",
              " '__class__',\n",
              " '__delattr__',\n",
              " '__dict__',\n",
              " '__dir__',\n",
              " '__doc__',\n",
              " '__enter__',\n",
              " '__eq__',\n",
              " '__exit__',\n",
              " '__format__',\n",
              " '__ge__',\n",
              " '__getattribute__',\n",
              " '__getstate__',\n",
              " '__gt__',\n",
              " '__hash__',\n",
              " '__init__',\n",
              " '__init_subclass__',\n",
              " '__iter__',\n",
              " '__le__',\n",
              " '__lt__',\n",
              " '__module__',\n",
              " '__ne__',\n",
              " '__new__',\n",
              " '__nonzero__',\n",
              " '__reduce__',\n",
              " '__reduce_ex__',\n",
              " '__repr__',\n",
              " '__setattr__',\n",
              " '__setstate__',\n",
              " '__sizeof__',\n",
              " '__str__',\n",
              " '__subclasshook__',\n",
              " '__weakref__',\n",
              " '_content',\n",
              " '_content_consumed',\n",
              " '_next',\n",
              " 'apparent_encoding',\n",
              " 'close',\n",
              " 'connection',\n",
              " 'content',\n",
              " 'cookies',\n",
              " 'elapsed',\n",
              " 'encoding',\n",
              " 'headers',\n",
              " 'history',\n",
              " 'is_permanent_redirect',\n",
              " 'is_redirect',\n",
              " 'iter_content',\n",
              " 'iter_lines',\n",
              " 'json',\n",
              " 'links',\n",
              " 'next',\n",
              " 'ok',\n",
              " 'raise_for_status',\n",
              " 'raw',\n",
              " 'reason',\n",
              " 'request',\n",
              " 'status_code',\n",
              " 'text',\n",
              " 'url']"
            ]
          },
          "metadata": {
            "tags": []
          },
          "execution_count": 3
        }
      ]
    },
    {
      "cell_type": "markdown",
      "metadata": {
        "id": "KQhuCtJpYOoF"
      },
      "source": [
        "The next step is to assign the value of the `text` property of this `Request` object to a variable."
      ]
    },
    {
      "cell_type": "code",
      "metadata": {
        "id": "FU81dmYnYOoI",
        "outputId": "59d51fd9-33cf-46c5-861e-058d7c931aa5",
        "colab": {
          "base_uri": "https://localhost:8080/",
          "height": 170
        }
      },
      "source": [
        "page = req.text\n",
        "page"
      ],
      "execution_count": null,
      "outputs": [
        {
          "output_type": "execute_result",
          "data": {
            "application/vnd.google.colaboratory.intrinsic+json": {
              "type": "string"
            },
            "text/plain": [
              "'<!doctype html><html><head><meta name=\"viewport\" content=\"width=device-width, initial-scale=1\"/><title>Coronavirus Source Data - Our World in Data</title><meta name=\"description\" content=\"Our complete COVID-19 dataset is a collection of the COVID-19 data maintained by Our World in Data. It is updated daily and includes data on confirmed cases, deaths, and testing.\"/><link rel=\"canonical\" href=\"https://ourworldindata.org/coronavirus-source-data\"/><link rel=\"alternate\" type=\"application/atom+xml\" href=\"/atom.xml\"/><link rel=\"apple-touch-icon\" sizes=\"180x180\" href=\"/apple-touch-icon.png\"/><meta property=\"fb:app_id\" content=\"1149943818390250\"/><meta property=\"og:url\" content=\"https://ourworldindata.org/coronavirus-source-data\"/><meta property=\"og:title\" content=\"Coronavirus Source Data\"/><meta property=\"og:description\" content=\"Our complete COVID-19 dataset is a collection of the COVID-19 data maintained by Our World in Data. It is updated daily and includes data on confirmed cases, deaths, and testing.\"/><meta property=\"og:image\" content=\"https://ourworldindata.org/app/uploads/2020/03/Screen-Shot-2020-03-07-at-11.13.45-768x384.png\"/><meta property=\"og:site_name\" content=\"Our World in Data\"/><meta name=\"twitter:card\" content=\"summary_large_image\"/><meta name=\"twitter:site\" content=\"@OurWorldInData\"/><meta name=\"twitter:creator\" content=\"@OurWorldInData\"/><meta name=\"twitter:title\" content=\"Coronavirus Source Data\"/><meta name=\"twitter:description\" content=\"Our complete COVID-19 dataset is a collection of the COVID-19 data maintained by Our World in Data. It is updated daily and includes data on confirmed cases, deaths, and testing.\"/><meta name=\"twitter:image\" content=\"https://ourworldindata.org/app/uploads/2020/03/Screen-Shot-2020-03-07-at-11.13.45-768x384.png\"/><link href=\"https://fonts.googleapis.com/css?family=Lato:300,400,400i,700,700i|Playfair+Display:400,700&amp;display=swap\" rel=\"stylesheet\"/><link rel=\"stylesheet\" href=\"https://ourworldindata.org/assets/css/commons.css\"/><link rel=\"stylesheet\" href=\"https://ourworldindata.org/assets/css/owid.css\"/><script type=\"text/javascript\">\\n  (function(e,t){var n=e.amplitude||{_q:[],_iq:{}};var r=t.createElement(\"script\")\\n  ;r.type=\"text/javascript\";r.async=true\\n  ;r.src=\"https://cdn.amplitude.com/libs/amplitude-4.4.0-min.gz.js\"\\n  ;r.onload=function(){if(e.amplitude.runQueuedFunctions){\\n  e.amplitude.runQueuedFunctions()}else{\\n  console.log(\"[Amplitude] Error: could not load SDK\")}}\\n  ;var i=t.getElementsByTagName(\"script\")[0];i.parentNode.insertBefore(r,i)\\n  ;function s(e,t){e.prototype[t]=function(){\\n  this._q.push([t].concat(Array.prototype.slice.call(arguments,0)));return this}}\\n  var o=function(){this._q=[];return this}\\n  ;var a=[\"add\",\"append\",\"clearAll\",\"prepend\",\"set\",\"setOnce\",\"unset\"]\\n  ;for(var u=0;u<a.length;u++){s(o,a[u])}n.Identify=o;var c=function(){this._q=[]\\n  ;return this}\\n  ;var l=[\"setProductId\",\"setQuantity\",\"setPrice\",\"setRevenueType\",\"setEventProperties\"]\\n  ;for(var p=0;p<l.length;p++){s(c,l[p])}n.Revenue=c\\n  ;var d=[\"init\",\"logEvent\",\"logRevenue\",\"setUserId\",\"setUserProperties\",\"setOptOut\",\"setVersionName\",\"setDomain\",\"setDeviceId\",\"setGlobalUserProperties\",\"identify\",\"clearUserProperties\",\"setGroup\",\"logRevenueV2\",\"regenerateDeviceId\",\"logEventWithTimestamp\",\"logEventWithGroups\",\"setSessionId\",\"resetSessionId\"]\\n  ;function v(e){function t(t){e[t]=function(){\\n  e._q.push([t].concat(Array.prototype.slice.call(arguments,0)))}}\\n  for(var n=0;n<d.length;n++){t(d[n])}}v(n);n.getInstance=function(e){\\n  e=(!e||e.length===0?\"$default_instance\":e).toLowerCase()\\n  ;if(!n._iq.hasOwnProperty(e)){n._iq[e]={_q:[]};v(n._iq[e])}return n._iq[e]}\\n  ;e.amplitude=n})(window,document);\\n\\n  amplitude.getInstance().init(\"0e57d4b93c5d7c33195d5dd89d563665\");\\n</script><!-- Google Tag Manager -->\\n<script>(function(w,d,s,l,i){w[l]=w[l]||[];w[l].push({\\'gtm.start\\':\\nnew Date().getTime(),event:\\'gtm.js\\'});var f=d.getElementsByTagName(s)[0],\\nj=d.createElement(s),dl=l!=\\'dataLayer\\'?\\'&l=\\'+l:\\'\\';j.async=true;j.src=\\n\\'https://www.googletagmanager.com/gtm.js?id=\\'+i+dl;f.parentNode.insertBefore(j,f);\\n})(window,document,\\'script\\',\\'dataLayer\\',\\'GTM-N2D4V8S\\');</script>\\n<!-- End Google Tag Manager --></head><body class=\"\"><header class=\"site-header\"><div class=\"wrapper site-navigation-bar\"><div class=\"site-logo\"><a href=\"/\">Our World<br/> in Data</a></div><nav class=\"site-navigation\"><div class=\"topics-button-wrapper\"><a href=\"/#entries\" class=\"topics-button\"><div class=\"label\">Articles <br/><strong>by topic</strong></div><div class=\"icon\"><svg width=\"12\" height=\"6\"><path d=\"M0,0 L12,0 L6,6 Z\" fill=\"currentColor\"></path></svg></div></a></div><div><div class=\"site-primary-navigation\"><form class=\"HeaderSearch\" action=\"/search\" method=\"GET\"><input type=\"search\" name=\"q\" placeholder=\"Search...\"/><div class=\"icon\"><svg aria-hidden=\"true\" focusable=\"false\" data-prefix=\"fas\" data-icon=\"search\" class=\"svg-inline--fa fa-search fa-w-16 \" role=\"img\" xmlns=\"http://www.w3.org/2000/svg\" viewBox=\"0 0 512 512\"><path fill=\"currentColor\" d=\"M505 442.7L405.3 343c-4.5-4.5-10.6-7-17-7H372c27.6-35.3 44-79.7 44-128C416 93.1 322.9 0 208 0S0 93.1 0 208s93.1 208 208 208c48.3 0 92.7-16.4 128-44v16.3c0 6.4 2.5 12.5 7 17l99.7 99.7c9.4 9.4 24.6 9.4 33.9 0l28.3-28.3c9.4-9.4 9.4-24.6.1-34zM208 336c-70.7 0-128-57.2-128-128 0-70.7 57.2-128 128-128 70.7 0 128 57.2 128 128 0 70.7-57.2 128-128 128z\"></path></svg></div></form><ul class=\"site-primary-links\"><li><a href=\"/blog\" data-track-note=\"header-navigation\">Latest</a></li><li><a href=\"/about\" data-track-note=\"header-navigation\">About</a></li><li><a href=\"/donate\" data-track-note=\"header-navigation\">Donate</a></li></ul></div><div class=\"site-secondary-navigation\"><ul class=\"site-secondary-links\"><li><a href=\"/charts\" data-track-note=\"header-navigation\">All charts</a></li><li><a href=\"https://sdg-tracker.org\" data-track-note=\"header-navigation\">Sustainable Development Goals Tracker</a></li></ul></div></div></nav><div class=\"header-logos-wrapper\"><a href=\"https://www.oxfordmartin.ox.ac.uk/global-development\" class=\"oxford-logo\"><img src=\"https://ourworldindata.org/oms-logo.svg\" alt=\"Oxford Martin School logo\"/></a><a href=\"https://global-change-data-lab.org/\" class=\"gcdl-logo\"><img src=\"https://ourworldindata.org/gcdl-logo-narrow.png\" alt=\"Global Change Data Lab logo\"/></a></div><div class=\"mobile-site-navigation\"><button data-track-note=\"mobile-search-button\"><svg aria-hidden=\"true\" focusable=\"false\" data-prefix=\"fas\" data-icon=\"search\" class=\"svg-inline--fa fa-search fa-w-16 \" role=\"img\" xmlns=\"http://www.w3.org/2000/svg\" viewBox=\"0 0 512 512\"><path fill=\"currentColor\" d=\"M505 442.7L405.3 343c-4.5-4.5-10.6-7-17-7H372c27.6-35.3 44-79.7 44-128C416 93.1 322.9 0 208 0S0 93.1 0 208s93.1 208 208 208c48.3 0 92.7-16.4 128-44v16.3c0 6.4 2.5 12.5 7 17l99.7 99.7c9.4 9.4 24.6 9.4 33.9 0l28.3-28.3c9.4-9.4 9.4-24.6.1-34zM208 336c-70.7 0-128-57.2-128-128 0-70.7 57.2-128 128-128 70.7 0 128 57.2 128 128 0 70.7-57.2 128-128 128z\"></path></svg></button><button data-track-note=\"mobile-newsletter-button\"><svg aria-hidden=\"true\" focusable=\"false\" data-prefix=\"fas\" data-icon=\"envelope-open-text\" class=\"svg-inline--fa fa-envelope-open-text fa-w-16 \" role=\"img\" xmlns=\"http://www.w3.org/2000/svg\" viewBox=\"0 0 512 512\"><path fill=\"currentColor\" d=\"M176 216h160c8.84 0 16-7.16 16-16v-16c0-8.84-7.16-16-16-16H176c-8.84 0-16 7.16-16 16v16c0 8.84 7.16 16 16 16zm-16 80c0 8.84 7.16 16 16 16h160c8.84 0 16-7.16 16-16v-16c0-8.84-7.16-16-16-16H176c-8.84 0-16 7.16-16 16v16zm96 121.13c-16.42 0-32.84-5.06-46.86-15.19L0 250.86V464c0 26.51 21.49 48 48 48h416c26.51 0 48-21.49 48-48V250.86L302.86 401.94c-14.02 10.12-30.44 15.19-46.86 15.19zm237.61-254.18c-8.85-6.94-17.24-13.47-29.61-22.81V96c0-26.51-21.49-48-48-48h-77.55c-3.04-2.2-5.87-4.26-9.04-6.56C312.6 29.17 279.2-.35 256 0c-23.2-.35-56.59 29.17-73.41 41.44-3.17 2.3-6 4.36-9.04 6.56H96c-26.51 0-48 21.49-48 48v44.14c-12.37 9.33-20.76 15.87-29.61 22.81A47.995 47.995 0 0 0 0 200.72v10.65l96 69.35V96h320v184.72l96-69.35v-10.65c0-14.74-6.78-28.67-18.39-37.77z\"></path></svg></button><button data-track-note=\"mobile-hamburger-button\"><svg aria-hidden=\"true\" focusable=\"false\" data-prefix=\"fas\" data-icon=\"bars\" class=\"svg-inline--fa fa-bars fa-w-14 \" role=\"img\" xmlns=\"http://www.w3.org/2000/svg\" viewBox=\"0 0 448 512\"><path fill=\"currentColor\" d=\"M16 132h416c8.837 0 16-7.163 16-16V76c0-8.837-7.163-16-16-16H16C7.163 60 0 67.163 0 76v40c0 8.837 7.163 16 16 16zm0 160h416c8.837 0 16-7.163 16-16v-40c0-8.837-7.163-16-16-16H16c-8.837 0-16 7.163-16 16v40c0 8.837 7.163 16 16 16zm0 160h416c8.837 0 16-7.163 16-16v-40c0-8.837-7.163-16-16-16H16c-8.837 0-16 7.163-16 16v40c0 8.837 7.163 16 16 16z\"></path></svg></button></div></div></header><div class=\"alert-banner\"><div class=\"content\"><div class=\"text\"><strong>Coronavirus pandemic</strong>: daily updated research and data.</div><a href=\"/coronavirus\" data-track-note=\"covid-banner-click\">Read more</a></div></div><main><article class=\"page with-sidebar large-banner\"><div class=\"offset-header\"><header class=\"article-header\"><h1 class=\"entry-title\"><span>Coronavirus Source Data</span></h1><div class=\"authors-byline\"><a href=\"/team\">by Hannah Ritchie</a></div><div class=\"last-updated\">\\n\\t\\t\\n\\n<p>The data on the coronavirus pandemic is updated daily. Last update:&#xA0;<strong>September 26, 2020</strong>&#xA0;(10:00, London time).</p>\\n\\n\\n\\t</div></header></div><div class=\"offset-subnavigation\"><div class=\"site-subnavigation\"><div class=\"site-subnavigation-scroll\"><ul class=\"site-subnavigation-links\"><li class=\"\"><a href=\"/coronavirus\" data-track-note=\"coronavirus-subnav-coronavirus\">Coronavirus<svg aria-hidden=\"true\" focusable=\"false\" data-prefix=\"fas\" data-icon=\"chevron-left\" class=\"svg-inline--fa fa-chevron-left fa-w-10 \" role=\"img\" xmlns=\"http://www.w3.org/2000/svg\" viewBox=\"0 0 320 512\"><path fill=\"currentColor\" d=\"M34.52 239.03L228.87 44.69c9.37-9.37 24.57-9.37 33.94 0l22.67 22.67c9.36 9.36 9.37 24.52.04 33.9L131.49 256l154.02 154.75c9.34 9.38 9.32 24.54-.04 33.9l-22.67 22.67c-9.37 9.37-24.57 9.37-33.94 0L34.52 272.97c-9.37-9.37-9.37-24.57 0-33.94z\"></path></svg></a></li><li class=\"highlight\"><a href=\"/coronavirus#coronavirus-country-profiles\" data-track-note=\"coronavirus-subnav-by-country\">By country</a></li><li class=\"highlight\"><a href=\"/coronavirus-data-explorer\" data-track-note=\"coronavirus-subnav-data-explorer\">Data explorer</a></li><li class=\"\"><a href=\"/covid-deaths\" data-track-note=\"coronavirus-subnav-deaths\">Deaths</a></li><li class=\"\"><a href=\"/covid-cases\" data-track-note=\"coronavirus-subnav-cases\">Cases</a></li><li class=\"\"><a href=\"/coronavirus-testing\" data-track-note=\"coronavirus-subnav-testing\">Tests</a></li><li class=\"\"><a href=\"/mortality-risk-covid\" data-track-note=\"coronavirus-subnav-mortality-risk\">Mortality risk</a></li><li class=\"\"><a href=\"/excess-mortality-covid\" data-track-note=\"coronavirus-subnav-excess-mortality\">Excess mortality</a></li><li class=\"\"><a href=\"/policy-responses-covid\" data-track-note=\"coronavirus-subnav-policy-responses\">Policy responses</a></li><li class=\"\"><a href=\"/identify-covid-exemplars\" data-track-note=\"coronavirus-subnav-exemplars\">Exemplars</a></li><li class=\"\"><a href=\"/coronavirus-data\" data-track-note=\"coronavirus-subnav-data\">All charts</a></li></ul></div></div></div><div class=\"content-wrapper\"><div><aside class=\"entry-sidebar\"><div class=\"sticky-sentinel\"></div><nav class=\"entry-toc\"><ul><li><a href=\"#\">Coronavirus Source Data</a></li><li class=\"section\"><a href=\"#deaths-and-cases-our-data-source\">Deaths and cases: our data source</a></li><li class=\"section\"><a href=\"#testing-the-our-world-in-data-testing-database\">Testing: the Our World in Data testing database</a></li><li class=\"section\"><a href=\"#endnotes\">Endnotes</a></li></ul></nav><div class=\"toggle-toc\"><button data-track-note=\"page-toggle-toc\" aria-label=\"Open table of contents\"><svg aria-hidden=\"true\" focusable=\"false\" data-prefix=\"fas\" data-icon=\"list-alt\" class=\"svg-inline--fa fa-list-alt fa-w-16 \" role=\"img\" xmlns=\"http://www.w3.org/2000/svg\" viewBox=\"0 0 512 512\"><path fill=\"currentColor\" d=\"M464 480H48c-26.51 0-48-21.49-48-48V80c0-26.51 21.49-48 48-48h416c26.51 0 48 21.49 48 48v352c0 26.51-21.49 48-48 48zM128 120c-22.091 0-40 17.909-40 40s17.909 40 40 40 40-17.909 40-40-17.909-40-40-40zm0 96c-22.091 0-40 17.909-40 40s17.909 40 40 40 40-17.909 40-40-17.909-40-40-40zm0 96c-22.091 0-40 17.909-40 40s17.909 40 40 40 40-17.909 40-40-17.909-40-40-40zm288-136v-32c0-6.627-5.373-12-12-12H204c-6.627 0-12 5.373-12 12v32c0 6.627 5.373 12 12 12h200c6.627 0 12-5.373 12-12zm0 96v-32c0-6.627-5.373-12-12-12H204c-6.627 0-12 5.373-12 12v32c0 6.627 5.373 12 12 12h200c6.627 0 12-5.373 12-12zm0 96v-32c0-6.627-5.373-12-12-12H204c-6.627 0-12 5.373-12 12v32c0 6.627 5.373 12 12 12h200c6.627 0 12-5.373 12-12z\"></path></svg></button></div></aside></div><div class=\"offset-content\"><div class=\"content-and-footnotes\"><div class=\"article-content\"><section><div class=\"wp-block-columns is-style-sticky-right\"><div class=\"wp-block-column\"><p>Our complete COVID-19 dataset is a collection of the COVID-19 data maintained by <em>Our World in Data</em>. <strong>It is updated daily</strong> and includes data on confirmed cases, deaths, and testing.</p><p><strong>All our data can be downloaded. </strong></p><p><strong>You find <strong>the complete Our World in Data COVID-19 dataset&#x2014;together with a <strong><strong>complete overview of our sources and more</strong></strong>&#x2014;</strong></strong><strong>at our GitHub repository <a href=\"https://github.com/owid/covid-19-data/tree/master/public/data/\">here</a>. </strong></p><div style=\"border: 1px solid #6e87a2; padding: 1rem; border-radius: 3px; background-color: #fff; margin-bottom: 2rem;\">\\n<h5 style=\"margin-top: 0;\">Our work belongs to everyone</h5>\\n\\n<div style=\"margin-bottom: 1rem;\">Download <a rel=\"noreferrer noopener\" href=\"https://github.com/owid/covid-19-data/tree/master/public/data\" target=\"_blank\">the complete <em>Our World in Data</em> COVID-19 dataset</a><br>\\n<div style=\"font-size: 0.9rem;\">\\n    <svg aria-hidden=\"true\" focusable=\"false\" data-prefix=\"fas\" data-icon=\"cloud-download-alt\" class=\"svg-inline--fa fa-cloud-download-alt fa-w-20\" role=\"img\" xmlns=\"http://www.w3.org/2000/svg\" viewBox=\"0 0 640 512\"><path fill=\"currentColor\" d=\"M537.6 226.6c4.1-10.7 6.4-22.4 6.4-34.6 0-53-43-96-96-96-19.7 0-38.1 6-53.3 16.2C367 64.2 315.3 32 256 32c-88.4 0-160 71.6-160 160 0 2.7.1 5.4.2 8.1C40.2 219.8 0 273.2 0 336c0 79.5 64.5 144 144 144h368c70.7 0 128-57.3 128-128 0-61.9-44-113.6-102.4-125.4zm-132.9 88.7L299.3 420.7c-6.2 6.2-16.4 6.2-22.6 0L171.3 315.3c-10.1-10.1-2.9-27.3 11.3-27.3H248V176c0-8.8 7.2-16 16-16h48c8.8 0 16 7.2 16 16v112h65.4c14.2 0 21.4 17.2 11.3 27.3z\"/></svg>\\n    <a style=\"display: inline-block; margin-left: 0.5rem;\" href=\"https://covid.ourworldindata.org/data/owid-covid-data.xlsx\" rel=\"noreferrer noopener\" target=\"_blank\">.xslx</a>\\n    <a style=\"display: inline-block; margin-left: 0.5rem;\" href=\"https://covid.ourworldindata.org/data/owid-covid-data.csv\" rel=\"noreferrer noopener\" target=\"_blank\">.csv</a>\\n    <a style=\"display: inline-block; margin-left: 0.5rem;\" href=\"https://covid.ourworldindata.org/data/owid-covid-data.json\" rel=\"noreferrer noopener\" target=\"_blank\">.json</a>\\n    <span style=\"margin-left: 0.5rem;\">(daily updated)</span>\\n</div>\\n</div>\\n\\n<ul style=\"list-style-type:none; padding: 0; margin: 0; font-size: 0.9rem; color: #577291\">\\n<li><svg aria-hidden=\"true\" focusable=\"false\" data-prefix=\"fab\" data-icon=\"github\" class=\"svg-inline--fa fa-github fa-w-16\" role=\"img\" xmlns=\"http://www.w3.org/2000/svg\" viewBox=\"0 0 496 512\"><path fill=\"currentColor\" d=\"M165.9 397.4c0 2-2.3 3.6-5.2 3.6-3.3.3-5.6-1.3-5.6-3.6 0-2 2.3-3.6 5.2-3.6 3-.3 5.6 1.3 5.6 3.6zm-31.1-4.5c-.7 2 1.3 4.3 4.3 4.9 2.6 1 5.6 0 6.2-2s-1.3-4.3-4.3-5.2c-2.6-.7-5.5.3-6.2 2.3zm44.2-1.7c-2.9.7-4.9 2.6-4.6 4.9.3 2 2.9 3.3 5.9 2.6 2.9-.7 4.9-2.6 4.6-4.6-.3-1.9-3-3.2-5.9-2.9zM244.8 8C106.1 8 0 113.3 0 252c0 110.9 69.8 205.8 169.5 239.2 12.8 2.3 17.3-5.6 17.3-12.1 0-6.2-.3-40.4-.3-61.4 0 0-70 15-84.7-29.8 0 0-11.4-29.1-27.8-36.6 0 0-22.9-15.7 1.6-15.4 0 0 24.9 2 38.6 25.8 21.9 38.6 58.6 27.5 72.9 20.9 2.3-16 8.8-27.1 16-33.7-55.9-6.2-112.3-14.3-112.3-110.5 0-27.5 7.6-41.3 23.6-58.9-2.6-6.5-11.1-33.3 2.6-67.9 20.9-6.5 69 27 69 27 20-5.6 41.5-8.5 62.8-8.5s42.8 2.9 62.8 8.5c0 0 48.1-33.6 69-27 13.7 34.7 5.2 61.4 2.6 67.9 16 17.7 25.8 31.5 25.8 58.9 0 96.5-58.9 104.2-114.8 110.5 9.2 7.9 17 22.9 17 46.4 0 33.7-.3 75.4-.3 83.6 0 6.5 4.6 14.4 17.3 12.1C428.2 457.8 496 362.9 496 252 496 113.3 383.5 8 244.8 8zM97.2 352.9c-1.3 1-1 3.3.7 5.2 1.6 1.6 3.9 2.3 5.2 1 1.3-1 1-3.3-.7-5.2-1.6-1.6-3.9-2.3-5.2-1zm-10.8-8.1c-.7 1.3.3 2.9 2.3 3.9 1.6 1 3.6.7 4.3-.7.7-1.3-.3-2.9-2.3-3.9-2-.6-3.6-.3-4.3.7zm32.4 35.6c-1.6 1.3-1 4.3 1.3 6.2 2.3 2.3 5.2 2.6 6.5 1 1.3-1.3.7-4.3-1.3-6.2-2.2-2.3-5.2-2.6-6.5-1zm-11.4-14.7c-1.6 1-1.6 3.6 0 5.9 1.6 2.3 4.3 3.3 5.6 2.3 1.6-1.3 1.6-3.9 0-6.2-1.4-2.3-4-3.3-5.6-2z\"/></svg><span style=\"margin-left: 0.5rem;\">All <a style=\"text-decoration: underline; color: #577291;\" rel=\"noreferrer noopener\" target=\"_blank\" href=\"https://github.com/owid\">our code is open-source</a></span></li>\\n<li><svg aria-hidden=\"true\" focusable=\"false\" data-prefix=\"fab\" data-icon=\"creative-commons\" class=\"svg-inline--fa fa-creative-commons fa-w-16\" role=\"img\" xmlns=\"http://www.w3.org/2000/svg\" viewBox=\"0 0 496 512\"><path fill=\"currentColor\" d=\"M245.83 214.87l-33.22 17.28c-9.43-19.58-25.24-19.93-27.46-19.93-22.13 0-33.22 14.61-33.22 43.84 0 23.57 9.21 43.84 33.22 43.84 14.47 0 24.65-7.09 30.57-21.26l30.55 15.5c-6.17 11.51-25.69 38.98-65.1 38.98-22.6 0-73.96-10.32-73.96-77.05 0-58.69 43-77.06 72.63-77.06 30.72-.01 52.7 11.95 65.99 35.86zm143.05 0l-32.78 17.28c-9.5-19.77-25.72-19.93-27.9-19.93-22.14 0-33.22 14.61-33.22 43.84 0 23.55 9.23 43.84 33.22 43.84 14.45 0 24.65-7.09 30.54-21.26l31 15.5c-2.1 3.75-21.39 38.98-65.09 38.98-22.69 0-73.96-9.87-73.96-77.05 0-58.67 42.97-77.06 72.63-77.06 30.71-.01 52.58 11.95 65.56 35.86zM247.56 8.05C104.74 8.05 0 123.11 0 256.05c0 138.49 113.6 248 247.56 248 129.93 0 248.44-100.87 248.44-248 0-137.87-106.62-248-248.44-248zm.87 450.81c-112.54 0-203.7-93.04-203.7-202.81 0-105.42 85.43-203.27 203.72-203.27 112.53 0 202.82 89.46 202.82 203.26-.01 121.69-99.68 202.82-202.84 202.82z\"/></svg><span style=\"margin-left: 0.5rem;\">All our research and visualizations are <a style=\"text-decoration: underline; color: #577291;\" href=\"https://ourworldindata.org/how-to-use-our-world-in-data#how-is-our-work-copyrighted\">free for everyone to use for all purposes</a></span></li>\\n</ul>\\n</div><hr class=\"wp-block-separator\"><p>Since the beginning of the pandemic we have also provided individual files of our daily updates of confirmed cases and deaths from the European CDC. We will continue to provide them here for consistency.</p><ul><li><strong>Total confirmed cases</strong>: <a href=\"https://covid.ourworldindata.org/data/ecdc/total_cases.csv\">https://covid.ourworldindata.org/data/ecdc/total_cases.csv</a></li><li><strong>Total deaths</strong>: <a href=\"https://covid.ourworldindata.org/data/ecdc/total_deaths.csv\">https://covid.ourworldindata.org/data/ecdc/total_deaths.csv</a></li><li><strong>New confirmed cases</strong>: <a href=\"https://covid.ourworldindata.org/data/ecdc/new_cases.csv\">https://covid.ourworldindata.org/data/ecdc/new_cases.csv</a></li><li><strong>New deaths</strong>: <a href=\"https://covid.ourworldindata.org/data/ecdc/new_deaths.csv\">https://covid.ourworldindata.org/data/ecdc/new_deaths.csv</a></li><li><strong>All four metrics</strong>: <a href=\"https://covid.ourworldindata.org/data/ecdc/full_data.csv\">https://covid.ourworldindata.org/data/ecdc/full_data.csv</a></li><li><strong>Population data</strong>: <a href=\"https://covid.ourworldindata.org/data/ecdc/locations.csv\">https://covid.ourworldindata.org/data/ecdc/locations.csv</a></li></ul></div><div class=\"wp-block-column\"></div></div></section>\\n\\n\\n\\n\\n\\n\\n\\n\\n\\n\\n\\n\\n\\n\\n\\n\\n\\n\\n\\n\\n\\n\\n\\t\\n\\n\\n\\n\\n\\n\\n<section><div class=\"section-heading\"><div class=\"wrapper\"><div><h2 id=\"deaths-and-cases-our-data-source\"><a class=\"deep-link\" href=\"#deaths-and-cases-our-data-source\"></a>Deaths and cases: our data source</h2></div></div></div><div class=\"wp-block-columns is-style-sticky-right\"><div class=\"wp-block-column\"><h4 id=\"our-world-in-data-relies-on-data-from-the-european-cdc\"><a class=\"deep-link\" href=\"#our-world-in-data-relies-on-data-from-the-european-cdc\"></a>Our World in Data relies on data from the European CDC</h4></div><div class=\"wp-block-column\"></div></div><div class=\"wp-block-columns is-style-sticky-right\"><div class=\"wp-block-column\"><p>In this document and the many embedded and linked charts we report and visualize the data from the <em>European Center for Disease Prevention and Control</em> (ECDC).<a id=\"ref-1\" class=\"ref\" href=\"#note-1\"><sup>1</sup></a> <strong>We make the data used in our charts and tables downloadable as a complete and structured .csv file <a href=\"https://covid.ourworldindata.org/data/ecdc/full_data.csv\">here</a></strong>.</p><p>The European CDC publishes daily statistics on the COVID-19 pandemic. Not just for Europe, but for the entire world. We rely on the ECDC as they collect and harmonize data from around the world which allows us to compare what is happening in different countries. The European CDC data provides a global perspective on the evolving pandemic.</p><p>The <em>European Centre for Disease Prevention and Control </em>ECDC provides three statistical resources on the COVID-19 pandemic:</p><ul><li><a href=\"https://qap.ecdc.europa.eu/public/extensions/COVID-19/COVID-19.html\"><strong>COVID-19 Dashboard</strong></a>&#xA0;</li><li><a href=\"https://www.ecdc.europa.eu/en/geographical-distribution-2019-ncov-cases\"><strong>Situation reports</strong></a></li><li><a href=\"https://www.ecdc.europa.eu/en/publications-data/download-todays-data-geographic-distribution-covid-19-cases-worldwide\"><strong>The daily data tables</strong></a></li></ul><p>The ECDC makes all their data available in a daily updated clean downloadable file. This gets updated daily reflecting data collected up to 6:00 and 10:00 CET.</p><p>The European CDC collects and aggregates data from countries around the world. The most up-to-date data for any particular country is therefore typically available earlier via the national health agencies than via the ECDC. This lag between nationally available data and the ECDC data is not very long as the ECDC publishes new data daily. But it can be several hours.</p></div><div class=\"wp-block-column\"></div></div></section>\\n\\n\\n\\n\\n\\n\\n\\n\\n\\n\\n\\n\\n\\n\\n\\n\\n\\n\\n\\n\\n\\n\\n\\n\\n\\n\\n\\n\\n\\n\\n\\n<section><div class=\"section-heading\"><div class=\"wrapper\"><div><h2 id=\"testing-the-our-world-in-data-testing-database\"><a class=\"deep-link\" href=\"#testing-the-our-world-in-data-testing-database\"></a>Testing: the <em>Our World in Data</em> testing database</h2></div></div></div><div class=\"wp-block-columns is-style-sticky-right\"><div class=\"wp-block-column\"><p>Testing data is collected by&#xA0;<em>Our World in Data</em>&#xA0;by browsing public information from official sources. We rely on figures published on official websites, in press releases and by social media accounts of national authorities&#x2014;usually governments, ministries of health, or centres for disease control.</p><p>Our testing dataset is entirely replicable:</p><ul><li>Links to the main sources for each country are provided in&#xA0;<a href=\"https://ourworldindata.org/coronavirus-testing#source-information-country-by-country\">detailed source descriptions</a>;</li><li>We list specific individual sources for each data point in&#xA0;<a href=\"https://github.com/owid/covid-19-data/tree/master/public/data/testing\">files available on GitHub</a>.</li></ul><div class=\"wp-block-owid-prominent-link is-style-thin with-image\">\\n        <a href=\"https://ourworldindata.org/coronavirus-testing\">\\n          <figure><img width=\"768\" height=\"402\" src=\"https://ourworldindata.org/uploads/2020/03/Coronavirus-Testing-768x402.png\" class=\"attachment-medium_large size-medium_large\" alt=\"Coronavirus testing\" loading=\"lazy\" srcset=\"https://ourworldindata.org/uploads/2020/03/Coronavirus-Testing-768x402.png 768w, https://ourworldindata.org/uploads/2020/03/Coronavirus-Testing-400x209.png 400w, https://ourworldindata.org/uploads/2020/03/Coronavirus-Testing-800x419.png 800w, https://ourworldindata.org/uploads/2020/03/Coronavirus-Testing-150x79.png 150w, https://ourworldindata.org/uploads/2020/03/Coronavirus-Testing-e1588365902668.png 287w\" sizes=\"(max-width: 768px) 100vw, 768px\" data-high-res-src=\"https://ourworldindata.org/uploads/2020/03/Coronavirus-Testing.png\"></figure>\\n          <div class=\"content-wrapper\">\\n            <div class=\"content\">\\n              \\n\\n<p>Without testing for the virus there is no data on the pandemic. This is why we built the Our World in Data COVID-19 Testing database. There we provide detailed descriptions of sources for each country.</p>\\n\\n\\n            </div>\\n            <div class=\"title\">Our World in Data Testing Database<svg xmlns=\"http://www.w3.org/2000/svg\" viewBox=\"0 0 448 512\"><path fill=\"currentColor\" d=\"M190.5 66.9l22.2-22.2c9.4-9.4 24.6-9.4 33.9 0L441 239c9.4 9.4 9.4 24.6 0 33.9L246.6 467.3c-9.4 9.4-24.6 9.4-33.9 0l-22.2-22.2c-9.5-9.5-9.3-25 .4-34.3L311.4 296H24c-13.3 0-24-10.7-24-24v-32c0-13.3 10.7-24 24-24h287.4L190.9 101.2c-9.8-9.3-10-24.8-.4-34.3z\"/></svg></div>\\n          </div>\\n        </a>\\n      </div></div><div class=\"wp-block-column\"></div></div></section>\\n\\n\\n\\n\\n\\n\\n\\n\\n\\n\\n\\n\\n\\n\\n      </div><footer class=\"article-footer\"><div class=\"wp-block-columns\"><div class=\"wp-block-column\"><h3 id=\"endnotes\">Endnotes</h3><ol class=\"endnotes\"><li id=\"note-1\"><p>Established in 2005 and based in Stockholm it is an EU agency with the aim to strengthen Europe&#8217;s defense against infectious diseases.</p></li></ol></div><div class=\"wp-block-column\"></div></div></footer></div></div></div></article></main><div id=\"wpadminbar\" style=\"display:none\"><div class=\"quicklinks\" id=\"wp-toolbar\" role=\"navigation\" aria-label=\"Toolbar\"><ul id=\"wp-admin-bar-root-default\" class=\"ab-top-menu\"><li id=\"wp-admin-bar-site-name\" class=\"menupop\"><a class=\"ab-item\" aria-haspopup=\"true\" href=\"https://owid.cloud/wp/wp-admin\">Wordpress</a></li> <li id=\"wp-admin-bar-edit\"><a class=\"ab-item\" href=\"https://owid.cloud/wp/wp-admin/post.php?post=30479&amp;action=edit\">Edit Page</a></li></ul></div></div><section class=\"donate-footer\"><div class=\"wrapper\"><div class=\"owid-row flex-align-center\"><div class=\"owid-col owid-col--lg-3 owid-padding-bottom--sm-3\"><p>Our World in Data is free and accessible for everyone.</p><p>Help us do this work by making a donation.</p></div><div class=\"owid-col owid-col--lg-1\"><a href=\"/donate\" class=\"owid-button donate-button\" data-track-note=\"donate-footer\"><span class=\"label\">Donate now</span><span class=\"icon\"><svg aria-hidden=\"true\" focusable=\"false\" data-prefix=\"fas\" data-icon=\"angle-right\" class=\"svg-inline--fa fa-angle-right fa-w-8 \" role=\"img\" xmlns=\"http://www.w3.org/2000/svg\" viewBox=\"0 0 256 512\"><path fill=\"currentColor\" d=\"M224.3 273l-136 136c-9.4 9.4-24.6 9.4-33.9 0l-22.6-22.6c-9.4-9.4-9.4-24.6 0-33.9l96.4-96.4-96.4-96.4c-9.4-9.4-9.4-24.6 0-33.9L54.3 103c9.4-9.4 24.6-9.4 33.9 0l136 136c9.5 9.4 9.5 24.6.1 34z\"></path></svg></span></a></div></div></div></section><footer class=\"site-footer\"><div class=\"wrapper\"><div class=\"owid-row\"><div class=\"owid-col owid-col--lg-1\"><ul><li><a href=\"/about\" data-track-note=\"footer-navigation\">About</a></li><li><a href=\"/about#contact\" data-track-note=\"footer-navigation\">Contact</a></li><li><a href=\"/feedback\" data-track-note=\"footer-navigation\">Feedback</a></li><li><a href=\"/jobs\" data-track-note=\"footer-navigation\">Jobs</a></li><li><a href=\"/supporters\" data-track-note=\"footer-navigation\">Supporters</a></li><li><a href=\"/about/how-to-use-our-world-in-data\" data-track-note=\"footer-navigation\">How to use</a></li><li><a href=\"/donate\" data-track-note=\"footer-navigation\">Donate</a></li><li><a href=\"/privacy-policy\" data-track-note=\"footer-navigation\">Privacy policy</a></li></ul></div><div class=\"owid-col owid-col--lg-1\"><ul><li><a href=\"/blog\" data-track-note=\"footer-navigation\">Latest publications</a></li><li><a href=\"/charts\" data-track-note=\"footer-navigation\">All charts</a></li></ul><ul><li><a href=\"https://twitter.com/OurWorldInData\" data-track-note=\"footer-navigation\">Twitter</a></li><li><a href=\"https://www.facebook.com/OurWorldinData\" data-track-note=\"footer-navigation\">Facebook</a></li><li><a href=\"https://github.com/owid\" data-track-note=\"footer-navigation\">GitHub</a></li><li><a href=\"/feed\" data-track-note=\"footer-navigation\">RSS Feed</a></li></ul></div><div class=\"owid-col owid-col--lg-1\"><div class=\"logos\"><a href=\"https://www.oxfordmartin.ox.ac.uk/research/programmes/global-development\" class=\"partner-logo\" data-track-note=\"footer-navigation\"><img src=\"https://ourworldindata.org/oms-logo.svg\" alt=\"Oxford Martin School logo\" loading=\"lazy\"/></a><a href=\"/owid-at-ycombinator\" class=\"partner-logo\" data-track-note=\"footer-navigation\"><img src=\"https://ourworldindata.org/yc-logo.png\" alt=\"Y Combinator logo\" loading=\"lazy\"/></a></div></div><div class=\"owid-col flex-2\"><div class=\"legal\"><p>License: All of Our World in Data is completely open access and all work is licensed under the <a href=\"https://creativecommons.org/licenses/by/4.0/\">Creative Commons BY license</a>. You have the permission to use, distribute, and reproduce in any medium, provided the source and authors are credited.</p><p>Please consult our full <a href=\"/about#legal\">legal disclaimer</a>.</p><p><a href=\"https://global-change-data-lab.org/\" class=\"partner-logo gcdl-logo\" data-track-note=\"footer-navigation\"><img src=\"https://ourworldindata.org/gcdl-logo-narrow.png\" alt=\"Global Change Data Lab logo\" loading=\"lazy\"/></a>Our World In Data is a project of the <a href=\"https://global-change-data-lab.org/\">Global Change Data Lab</a>, a registered charity in England and Wales (Charity Number 1186433).</p></div></div></div></div><div class=\"site-tools\"></div><script src=\"https://cdn.polyfill.io/v2/polyfill.min.js?features=es6,fetch\"></script><script src=\"https://ourworldindata.org/assets/js/commons.js\"></script><script src=\"https://ourworldindata.org/assets/js/owid.js\"></script><script>\\n                runHeaderMenus();\\n                runBlocks();\\n                runLightbox();\\n                runSiteTools();\\n                runCookieNotice();\\n                runCovid();\\n                runFootnotes();\\n                if (!document.querySelector(\".ChartPage\")) {\\n                    GrapherPageUtils.embedAll();\\n                    runGlobalEntityControl(GrapherPageUtils.globalEntitySelection);\\n                }\\n            </script></footer><script>\\n                        runTableOfContents({\"headings\":[{\"text\":\"Deaths and cases: our data source\",\"slug\":\"deaths-and-cases-our-data-source\",\"isSubheading\":false},{\"text\":\"Testing: the Our World in Data testing database\",\"slug\":\"testing-the-our-world-in-data-testing-database\",\"isSubheading\":false},{\"text\":\"Endnotes\",\"slug\":\"endnotes\",\"isSubheading\":false}],\"pageTitle\":\"Coronavirus Source Data\"})\\n                        runRelatedCharts([])\\n                        </script><!-- Google Tag Manager (noscript) -->\\n<noscript><iframe src=\"https://www.googletagmanager.com/ns.html?id=GTM-N2D4V8S\"\\nheight=\"0\" width=\"0\" style=\"display:none;visibility:hidden\"></iframe></noscript>\\n<!-- End Google Tag Manager (noscript) --></body></html>'"
            ]
          },
          "metadata": {
            "tags": []
          },
          "execution_count": 4
        }
      ]
    },
    {
      "cell_type": "markdown",
      "metadata": {
        "id": "OR-SM3ICYOoX"
      },
      "source": [
        "### Importing BeautifulSoup"
      ]
    },
    {
      "cell_type": "code",
      "metadata": {
        "id": "iskfrfc8YOoZ"
      },
      "source": [
        "from bs4 import BeautifulSoup"
      ],
      "execution_count": null,
      "outputs": []
    },
    {
      "cell_type": "markdown",
      "metadata": {
        "id": "nuPF-W5nYOoj"
      },
      "source": [
        "#### Create a Soup variable to store the parsed contents of the page"
      ]
    },
    {
      "cell_type": "code",
      "metadata": {
        "id": "Ce3NEu14YOok"
      },
      "source": [
        "soup = BeautifulSoup(page, 'html.parser')"
      ],
      "execution_count": null,
      "outputs": []
    },
    {
      "cell_type": "code",
      "metadata": {
        "scrolled": true,
        "id": "SSTFYoGYYOor",
        "outputId": "520709b3-9589-4232-df81-e3d51d37d76b",
        "colab": {
          "base_uri": "https://localhost:8080/",
          "height": 34
        }
      },
      "source": [
        "soup.title.get_text"
      ],
      "execution_count": null,
      "outputs": [
        {
          "output_type": "execute_result",
          "data": {
            "text/plain": [
              "<bound method Tag.get_text of <title>Coronavirus Source Data - Our World in Data</title>>"
            ]
          },
          "metadata": {
            "tags": []
          },
          "execution_count": 7
        }
      ]
    },
    {
      "cell_type": "code",
      "metadata": {
        "id": "p7CNWXsiYOox",
        "outputId": "0204b1b5-d4ce-4bef-ff51-96ea340056a2",
        "colab": {
          "base_uri": "https://localhost:8080/",
          "height": 1000
        }
      },
      "source": [
        "soup.find_all('a')"
      ],
      "execution_count": null,
      "outputs": [
        {
          "output_type": "execute_result",
          "data": {
            "text/plain": [
              "[<a href=\"/\">Our World<br/> in Data</a>,\n",
              " <a class=\"topics-button\" href=\"/#entries\"><div class=\"label\">Articles <br/><strong>by topic</strong></div><div class=\"icon\"><svg height=\"6\" width=\"12\"><path d=\"M0,0 L12,0 L6,6 Z\" fill=\"currentColor\"></path></svg></div></a>,\n",
              " <a data-track-note=\"header-navigation\" href=\"/blog\">Latest</a>,\n",
              " <a data-track-note=\"header-navigation\" href=\"/about\">About</a>,\n",
              " <a data-track-note=\"header-navigation\" href=\"/donate\">Donate</a>,\n",
              " <a data-track-note=\"header-navigation\" href=\"/charts\">All charts</a>,\n",
              " <a data-track-note=\"header-navigation\" href=\"https://sdg-tracker.org\">Sustainable Development Goals Tracker</a>,\n",
              " <a class=\"oxford-logo\" href=\"https://www.oxfordmartin.ox.ac.uk/global-development\"><img alt=\"Oxford Martin School logo\" src=\"https://ourworldindata.org/oms-logo.svg\"/></a>,\n",
              " <a class=\"gcdl-logo\" href=\"https://global-change-data-lab.org/\"><img alt=\"Global Change Data Lab logo\" src=\"https://ourworldindata.org/gcdl-logo-narrow.png\"/></a>,\n",
              " <a data-track-note=\"covid-banner-click\" href=\"/coronavirus\">Read more</a>,\n",
              " <a href=\"/team\">by Hannah Ritchie</a>,\n",
              " <a data-track-note=\"coronavirus-subnav-coronavirus\" href=\"/coronavirus\">Coronavirus<svg aria-hidden=\"true\" class=\"svg-inline--fa fa-chevron-left fa-w-10 \" data-icon=\"chevron-left\" data-prefix=\"fas\" focusable=\"false\" role=\"img\" viewbox=\"0 0 320 512\" xmlns=\"http://www.w3.org/2000/svg\"><path d=\"M34.52 239.03L228.87 44.69c9.37-9.37 24.57-9.37 33.94 0l22.67 22.67c9.36 9.36 9.37 24.52.04 33.9L131.49 256l154.02 154.75c9.34 9.38 9.32 24.54-.04 33.9l-22.67 22.67c-9.37 9.37-24.57 9.37-33.94 0L34.52 272.97c-9.37-9.37-9.37-24.57 0-33.94z\" fill=\"currentColor\"></path></svg></a>,\n",
              " <a data-track-note=\"coronavirus-subnav-by-country\" href=\"/coronavirus#coronavirus-country-profiles\">By country</a>,\n",
              " <a data-track-note=\"coronavirus-subnav-data-explorer\" href=\"/coronavirus-data-explorer\">Data explorer</a>,\n",
              " <a data-track-note=\"coronavirus-subnav-deaths\" href=\"/covid-deaths\">Deaths</a>,\n",
              " <a data-track-note=\"coronavirus-subnav-cases\" href=\"/covid-cases\">Cases</a>,\n",
              " <a data-track-note=\"coronavirus-subnav-testing\" href=\"/coronavirus-testing\">Tests</a>,\n",
              " <a data-track-note=\"coronavirus-subnav-mortality-risk\" href=\"/mortality-risk-covid\">Mortality risk</a>,\n",
              " <a data-track-note=\"coronavirus-subnav-excess-mortality\" href=\"/excess-mortality-covid\">Excess mortality</a>,\n",
              " <a data-track-note=\"coronavirus-subnav-policy-responses\" href=\"/policy-responses-covid\">Policy responses</a>,\n",
              " <a data-track-note=\"coronavirus-subnav-exemplars\" href=\"/identify-covid-exemplars\">Exemplars</a>,\n",
              " <a data-track-note=\"coronavirus-subnav-data\" href=\"/coronavirus-data\">All charts</a>,\n",
              " <a href=\"#\">Coronavirus Source Data</a>,\n",
              " <a href=\"#deaths-and-cases-our-data-source\">Deaths and cases: our data source</a>,\n",
              " <a href=\"#testing-the-our-world-in-data-testing-database\">Testing: the Our World in Data testing database</a>,\n",
              " <a href=\"#endnotes\">Endnotes</a>,\n",
              " <a href=\"https://github.com/owid/covid-19-data/tree/master/public/data/\">here</a>,\n",
              " <a href=\"https://github.com/owid/covid-19-data/tree/master/public/data\" rel=\"noreferrer noopener\" target=\"_blank\">the complete <em>Our World in Data</em> COVID-19 dataset</a>,\n",
              " <a href=\"https://covid.ourworldindata.org/data/owid-covid-data.xlsx\" rel=\"noreferrer noopener\" style=\"display: inline-block; margin-left: 0.5rem;\" target=\"_blank\">.xslx</a>,\n",
              " <a href=\"https://covid.ourworldindata.org/data/owid-covid-data.csv\" rel=\"noreferrer noopener\" style=\"display: inline-block; margin-left: 0.5rem;\" target=\"_blank\">.csv</a>,\n",
              " <a href=\"https://covid.ourworldindata.org/data/owid-covid-data.json\" rel=\"noreferrer noopener\" style=\"display: inline-block; margin-left: 0.5rem;\" target=\"_blank\">.json</a>,\n",
              " <a href=\"https://github.com/owid\" rel=\"noreferrer noopener\" style=\"text-decoration: underline; color: #577291;\" target=\"_blank\">our code is open-source</a>,\n",
              " <a href=\"https://ourworldindata.org/how-to-use-our-world-in-data#how-is-our-work-copyrighted\" style=\"text-decoration: underline; color: #577291;\">free for everyone to use for all purposes</a>,\n",
              " <a href=\"https://covid.ourworldindata.org/data/ecdc/total_cases.csv\">https://covid.ourworldindata.org/data/ecdc/total_cases.csv</a>,\n",
              " <a href=\"https://covid.ourworldindata.org/data/ecdc/total_deaths.csv\">https://covid.ourworldindata.org/data/ecdc/total_deaths.csv</a>,\n",
              " <a href=\"https://covid.ourworldindata.org/data/ecdc/new_cases.csv\">https://covid.ourworldindata.org/data/ecdc/new_cases.csv</a>,\n",
              " <a href=\"https://covid.ourworldindata.org/data/ecdc/new_deaths.csv\">https://covid.ourworldindata.org/data/ecdc/new_deaths.csv</a>,\n",
              " <a href=\"https://covid.ourworldindata.org/data/ecdc/full_data.csv\">https://covid.ourworldindata.org/data/ecdc/full_data.csv</a>,\n",
              " <a href=\"https://covid.ourworldindata.org/data/ecdc/locations.csv\">https://covid.ourworldindata.org/data/ecdc/locations.csv</a>,\n",
              " <a class=\"deep-link\" href=\"#deaths-and-cases-our-data-source\"></a>,\n",
              " <a class=\"deep-link\" href=\"#our-world-in-data-relies-on-data-from-the-european-cdc\"></a>,\n",
              " <a class=\"ref\" href=\"#note-1\" id=\"ref-1\"><sup>1</sup></a>,\n",
              " <a href=\"https://covid.ourworldindata.org/data/ecdc/full_data.csv\">here</a>,\n",
              " <a href=\"https://qap.ecdc.europa.eu/public/extensions/COVID-19/COVID-19.html\"><strong>COVID-19 Dashboard</strong></a>,\n",
              " <a href=\"https://www.ecdc.europa.eu/en/geographical-distribution-2019-ncov-cases\"><strong>Situation reports</strong></a>,\n",
              " <a href=\"https://www.ecdc.europa.eu/en/publications-data/download-todays-data-geographic-distribution-covid-19-cases-worldwide\"><strong>The daily data tables</strong></a>,\n",
              " <a class=\"deep-link\" href=\"#testing-the-our-world-in-data-testing-database\"></a>,\n",
              " <a href=\"https://ourworldindata.org/coronavirus-testing#source-information-country-by-country\">detailed source descriptions</a>,\n",
              " <a href=\"https://github.com/owid/covid-19-data/tree/master/public/data/testing\">files available on GitHub</a>,\n",
              " <a href=\"https://ourworldindata.org/coronavirus-testing\">\n",
              " <figure><img alt=\"Coronavirus testing\" class=\"attachment-medium_large size-medium_large\" data-high-res-src=\"https://ourworldindata.org/uploads/2020/03/Coronavirus-Testing.png\" height=\"402\" loading=\"lazy\" sizes=\"(max-width: 768px) 100vw, 768px\" src=\"https://ourworldindata.org/uploads/2020/03/Coronavirus-Testing-768x402.png\" srcset=\"https://ourworldindata.org/uploads/2020/03/Coronavirus-Testing-768x402.png 768w, https://ourworldindata.org/uploads/2020/03/Coronavirus-Testing-400x209.png 400w, https://ourworldindata.org/uploads/2020/03/Coronavirus-Testing-800x419.png 800w, https://ourworldindata.org/uploads/2020/03/Coronavirus-Testing-150x79.png 150w, https://ourworldindata.org/uploads/2020/03/Coronavirus-Testing-e1588365902668.png 287w\" width=\"768\"/></figure>\n",
              " <div class=\"content-wrapper\">\n",
              " <div class=\"content\">\n",
              " <p>Without testing for the virus there is no data on the pandemic. This is why we built the Our World in Data COVID-19 Testing database. There we provide detailed descriptions of sources for each country.</p>\n",
              " </div>\n",
              " <div class=\"title\">Our World in Data Testing Database<svg viewbox=\"0 0 448 512\" xmlns=\"http://www.w3.org/2000/svg\"><path d=\"M190.5 66.9l22.2-22.2c9.4-9.4 24.6-9.4 33.9 0L441 239c9.4 9.4 9.4 24.6 0 33.9L246.6 467.3c-9.4 9.4-24.6 9.4-33.9 0l-22.2-22.2c-9.5-9.5-9.3-25 .4-34.3L311.4 296H24c-13.3 0-24-10.7-24-24v-32c0-13.3 10.7-24 24-24h287.4L190.9 101.2c-9.8-9.3-10-24.8-.4-34.3z\" fill=\"currentColor\"></path></svg></div>\n",
              " </div>\n",
              " </a>,\n",
              " <a aria-haspopup=\"true\" class=\"ab-item\" href=\"https://owid.cloud/wp/wp-admin\">Wordpress</a>,\n",
              " <a class=\"ab-item\" href=\"https://owid.cloud/wp/wp-admin/post.php?post=30479&amp;action=edit\">Edit Page</a>,\n",
              " <a class=\"owid-button donate-button\" data-track-note=\"donate-footer\" href=\"/donate\"><span class=\"label\">Donate now</span><span class=\"icon\"><svg aria-hidden=\"true\" class=\"svg-inline--fa fa-angle-right fa-w-8 \" data-icon=\"angle-right\" data-prefix=\"fas\" focusable=\"false\" role=\"img\" viewbox=\"0 0 256 512\" xmlns=\"http://www.w3.org/2000/svg\"><path d=\"M224.3 273l-136 136c-9.4 9.4-24.6 9.4-33.9 0l-22.6-22.6c-9.4-9.4-9.4-24.6 0-33.9l96.4-96.4-96.4-96.4c-9.4-9.4-9.4-24.6 0-33.9L54.3 103c9.4-9.4 24.6-9.4 33.9 0l136 136c9.5 9.4 9.5 24.6.1 34z\" fill=\"currentColor\"></path></svg></span></a>,\n",
              " <a data-track-note=\"footer-navigation\" href=\"/about\">About</a>,\n",
              " <a data-track-note=\"footer-navigation\" href=\"/about#contact\">Contact</a>,\n",
              " <a data-track-note=\"footer-navigation\" href=\"/feedback\">Feedback</a>,\n",
              " <a data-track-note=\"footer-navigation\" href=\"/jobs\">Jobs</a>,\n",
              " <a data-track-note=\"footer-navigation\" href=\"/supporters\">Supporters</a>,\n",
              " <a data-track-note=\"footer-navigation\" href=\"/about/how-to-use-our-world-in-data\">How to use</a>,\n",
              " <a data-track-note=\"footer-navigation\" href=\"/donate\">Donate</a>,\n",
              " <a data-track-note=\"footer-navigation\" href=\"/privacy-policy\">Privacy policy</a>,\n",
              " <a data-track-note=\"footer-navigation\" href=\"/blog\">Latest publications</a>,\n",
              " <a data-track-note=\"footer-navigation\" href=\"/charts\">All charts</a>,\n",
              " <a data-track-note=\"footer-navigation\" href=\"https://twitter.com/OurWorldInData\">Twitter</a>,\n",
              " <a data-track-note=\"footer-navigation\" href=\"https://www.facebook.com/OurWorldinData\">Facebook</a>,\n",
              " <a data-track-note=\"footer-navigation\" href=\"https://github.com/owid\">GitHub</a>,\n",
              " <a data-track-note=\"footer-navigation\" href=\"/feed\">RSS Feed</a>,\n",
              " <a class=\"partner-logo\" data-track-note=\"footer-navigation\" href=\"https://www.oxfordmartin.ox.ac.uk/research/programmes/global-development\"><img alt=\"Oxford Martin School logo\" loading=\"lazy\" src=\"https://ourworldindata.org/oms-logo.svg\"/></a>,\n",
              " <a class=\"partner-logo\" data-track-note=\"footer-navigation\" href=\"/owid-at-ycombinator\"><img alt=\"Y Combinator logo\" loading=\"lazy\" src=\"https://ourworldindata.org/yc-logo.png\"/></a>,\n",
              " <a href=\"https://creativecommons.org/licenses/by/4.0/\">Creative Commons BY license</a>,\n",
              " <a href=\"/about#legal\">legal disclaimer</a>,\n",
              " <a class=\"partner-logo gcdl-logo\" data-track-note=\"footer-navigation\" href=\"https://global-change-data-lab.org/\"><img alt=\"Global Change Data Lab logo\" loading=\"lazy\" src=\"https://ourworldindata.org/gcdl-logo-narrow.png\"/></a>,\n",
              " <a href=\"https://global-change-data-lab.org/\">Global Change Data Lab</a>]"
            ]
          },
          "metadata": {
            "tags": []
          },
          "execution_count": 8
        }
      ]
    },
    {
      "cell_type": "code",
      "metadata": {
        "id": "R1APmSiGYOo3"
      },
      "source": [
        "csv_links = []        # creating a list to store the csv links\n",
        "for link in soup.find_all('a', href=True):\n",
        "    if 'csv' in link['href']:\n",
        "        csv_links.append(link['href'])"
      ],
      "execution_count": null,
      "outputs": []
    },
    {
      "cell_type": "code",
      "metadata": {
        "id": "A79KIWmwYOo9",
        "outputId": "38a950ad-ebd3-420c-d31b-cd74660c7769",
        "colab": {
          "base_uri": "https://localhost:8080/",
          "height": 151
        }
      },
      "source": [
        "csv_links"
      ],
      "execution_count": null,
      "outputs": [
        {
          "output_type": "execute_result",
          "data": {
            "text/plain": [
              "['https://covid.ourworldindata.org/data/owid-covid-data.csv',\n",
              " 'https://covid.ourworldindata.org/data/ecdc/total_cases.csv',\n",
              " 'https://covid.ourworldindata.org/data/ecdc/total_deaths.csv',\n",
              " 'https://covid.ourworldindata.org/data/ecdc/new_cases.csv',\n",
              " 'https://covid.ourworldindata.org/data/ecdc/new_deaths.csv',\n",
              " 'https://covid.ourworldindata.org/data/ecdc/full_data.csv',\n",
              " 'https://covid.ourworldindata.org/data/ecdc/locations.csv',\n",
              " 'https://covid.ourworldindata.org/data/ecdc/full_data.csv']"
            ]
          },
          "metadata": {
            "tags": []
          },
          "execution_count": 10
        }
      ]
    },
    {
      "cell_type": "markdown",
      "metadata": {
        "id": "e_yRAT2IYOpB"
      },
      "source": [
        "#### We need the first link, that contains all the data (total cases, total deaths, new cases etc)"
      ]
    },
    {
      "cell_type": "code",
      "metadata": {
        "scrolled": true,
        "id": "Ro5MCuOOYOpC",
        "outputId": "3da16129-f2f3-4aaf-dfd6-7fe534ca91d5",
        "colab": {
          "base_uri": "https://localhost:8080/",
          "height": 35
        }
      },
      "source": [
        "covid_csv_link = csv_links[0]\n",
        "covid_csv_link"
      ],
      "execution_count": null,
      "outputs": [
        {
          "output_type": "execute_result",
          "data": {
            "application/vnd.google.colaboratory.intrinsic+json": {
              "type": "string"
            },
            "text/plain": [
              "'https://covid.ourworldindata.org/data/owid-covid-data.csv'"
            ]
          },
          "metadata": {
            "tags": []
          },
          "execution_count": 11
        }
      ]
    },
    {
      "cell_type": "markdown",
      "metadata": {
        "id": "kW53N5dVYOpG"
      },
      "source": [
        "### Importing pandas to read the csv from url"
      ]
    },
    {
      "cell_type": "code",
      "metadata": {
        "id": "ApDHonWBYOpG",
        "outputId": "b3c038f6-bf32-4b44-f5d3-895fb6db5e93",
        "colab": {
          "base_uri": "https://localhost:8080/",
          "height": 590
        }
      },
      "source": [
        "import pandas as pd\n",
        "df = pd.read_csv(covid_csv_link)\n",
        "df"
      ],
      "execution_count": null,
      "outputs": [
        {
          "output_type": "execute_result",
          "data": {
            "text/html": [
              "<div>\n",
              "<style scoped>\n",
              "    .dataframe tbody tr th:only-of-type {\n",
              "        vertical-align: middle;\n",
              "    }\n",
              "\n",
              "    .dataframe tbody tr th {\n",
              "        vertical-align: top;\n",
              "    }\n",
              "\n",
              "    .dataframe thead th {\n",
              "        text-align: right;\n",
              "    }\n",
              "</style>\n",
              "<table border=\"1\" class=\"dataframe\">\n",
              "  <thead>\n",
              "    <tr style=\"text-align: right;\">\n",
              "      <th></th>\n",
              "      <th>iso_code</th>\n",
              "      <th>continent</th>\n",
              "      <th>location</th>\n",
              "      <th>date</th>\n",
              "      <th>total_cases</th>\n",
              "      <th>new_cases</th>\n",
              "      <th>new_cases_smoothed</th>\n",
              "      <th>total_deaths</th>\n",
              "      <th>new_deaths</th>\n",
              "      <th>new_deaths_smoothed</th>\n",
              "      <th>total_cases_per_million</th>\n",
              "      <th>new_cases_per_million</th>\n",
              "      <th>new_cases_smoothed_per_million</th>\n",
              "      <th>total_deaths_per_million</th>\n",
              "      <th>new_deaths_per_million</th>\n",
              "      <th>new_deaths_smoothed_per_million</th>\n",
              "      <th>new_tests</th>\n",
              "      <th>total_tests</th>\n",
              "      <th>total_tests_per_thousand</th>\n",
              "      <th>new_tests_per_thousand</th>\n",
              "      <th>new_tests_smoothed</th>\n",
              "      <th>new_tests_smoothed_per_thousand</th>\n",
              "      <th>tests_per_case</th>\n",
              "      <th>positive_rate</th>\n",
              "      <th>tests_units</th>\n",
              "      <th>stringency_index</th>\n",
              "      <th>population</th>\n",
              "      <th>population_density</th>\n",
              "      <th>median_age</th>\n",
              "      <th>aged_65_older</th>\n",
              "      <th>aged_70_older</th>\n",
              "      <th>gdp_per_capita</th>\n",
              "      <th>extreme_poverty</th>\n",
              "      <th>cardiovasc_death_rate</th>\n",
              "      <th>diabetes_prevalence</th>\n",
              "      <th>female_smokers</th>\n",
              "      <th>male_smokers</th>\n",
              "      <th>handwashing_facilities</th>\n",
              "      <th>hospital_beds_per_thousand</th>\n",
              "      <th>life_expectancy</th>\n",
              "      <th>human_development_index</th>\n",
              "    </tr>\n",
              "  </thead>\n",
              "  <tbody>\n",
              "    <tr>\n",
              "      <th>0</th>\n",
              "      <td>AFG</td>\n",
              "      <td>Asia</td>\n",
              "      <td>Afghanistan</td>\n",
              "      <td>2019-12-31</td>\n",
              "      <td>0.0</td>\n",
              "      <td>0.0</td>\n",
              "      <td>NaN</td>\n",
              "      <td>0.0</td>\n",
              "      <td>0.0</td>\n",
              "      <td>NaN</td>\n",
              "      <td>0.0</td>\n",
              "      <td>0.0</td>\n",
              "      <td>NaN</td>\n",
              "      <td>0.0</td>\n",
              "      <td>0.0</td>\n",
              "      <td>NaN</td>\n",
              "      <td>NaN</td>\n",
              "      <td>NaN</td>\n",
              "      <td>NaN</td>\n",
              "      <td>NaN</td>\n",
              "      <td>NaN</td>\n",
              "      <td>NaN</td>\n",
              "      <td>NaN</td>\n",
              "      <td>NaN</td>\n",
              "      <td>NaN</td>\n",
              "      <td>NaN</td>\n",
              "      <td>38928341.0</td>\n",
              "      <td>54.422</td>\n",
              "      <td>18.6</td>\n",
              "      <td>2.581</td>\n",
              "      <td>1.337</td>\n",
              "      <td>1803.987</td>\n",
              "      <td>NaN</td>\n",
              "      <td>597.029</td>\n",
              "      <td>9.59</td>\n",
              "      <td>NaN</td>\n",
              "      <td>NaN</td>\n",
              "      <td>37.746</td>\n",
              "      <td>0.5</td>\n",
              "      <td>64.83</td>\n",
              "      <td>0.498</td>\n",
              "    </tr>\n",
              "    <tr>\n",
              "      <th>1</th>\n",
              "      <td>AFG</td>\n",
              "      <td>Asia</td>\n",
              "      <td>Afghanistan</td>\n",
              "      <td>2020-01-01</td>\n",
              "      <td>0.0</td>\n",
              "      <td>0.0</td>\n",
              "      <td>NaN</td>\n",
              "      <td>0.0</td>\n",
              "      <td>0.0</td>\n",
              "      <td>NaN</td>\n",
              "      <td>0.0</td>\n",
              "      <td>0.0</td>\n",
              "      <td>NaN</td>\n",
              "      <td>0.0</td>\n",
              "      <td>0.0</td>\n",
              "      <td>NaN</td>\n",
              "      <td>NaN</td>\n",
              "      <td>NaN</td>\n",
              "      <td>NaN</td>\n",
              "      <td>NaN</td>\n",
              "      <td>NaN</td>\n",
              "      <td>NaN</td>\n",
              "      <td>NaN</td>\n",
              "      <td>NaN</td>\n",
              "      <td>NaN</td>\n",
              "      <td>0.0</td>\n",
              "      <td>38928341.0</td>\n",
              "      <td>54.422</td>\n",
              "      <td>18.6</td>\n",
              "      <td>2.581</td>\n",
              "      <td>1.337</td>\n",
              "      <td>1803.987</td>\n",
              "      <td>NaN</td>\n",
              "      <td>597.029</td>\n",
              "      <td>9.59</td>\n",
              "      <td>NaN</td>\n",
              "      <td>NaN</td>\n",
              "      <td>37.746</td>\n",
              "      <td>0.5</td>\n",
              "      <td>64.83</td>\n",
              "      <td>0.498</td>\n",
              "    </tr>\n",
              "    <tr>\n",
              "      <th>2</th>\n",
              "      <td>AFG</td>\n",
              "      <td>Asia</td>\n",
              "      <td>Afghanistan</td>\n",
              "      <td>2020-01-02</td>\n",
              "      <td>0.0</td>\n",
              "      <td>0.0</td>\n",
              "      <td>NaN</td>\n",
              "      <td>0.0</td>\n",
              "      <td>0.0</td>\n",
              "      <td>NaN</td>\n",
              "      <td>0.0</td>\n",
              "      <td>0.0</td>\n",
              "      <td>NaN</td>\n",
              "      <td>0.0</td>\n",
              "      <td>0.0</td>\n",
              "      <td>NaN</td>\n",
              "      <td>NaN</td>\n",
              "      <td>NaN</td>\n",
              "      <td>NaN</td>\n",
              "      <td>NaN</td>\n",
              "      <td>NaN</td>\n",
              "      <td>NaN</td>\n",
              "      <td>NaN</td>\n",
              "      <td>NaN</td>\n",
              "      <td>NaN</td>\n",
              "      <td>0.0</td>\n",
              "      <td>38928341.0</td>\n",
              "      <td>54.422</td>\n",
              "      <td>18.6</td>\n",
              "      <td>2.581</td>\n",
              "      <td>1.337</td>\n",
              "      <td>1803.987</td>\n",
              "      <td>NaN</td>\n",
              "      <td>597.029</td>\n",
              "      <td>9.59</td>\n",
              "      <td>NaN</td>\n",
              "      <td>NaN</td>\n",
              "      <td>37.746</td>\n",
              "      <td>0.5</td>\n",
              "      <td>64.83</td>\n",
              "      <td>0.498</td>\n",
              "    </tr>\n",
              "    <tr>\n",
              "      <th>3</th>\n",
              "      <td>AFG</td>\n",
              "      <td>Asia</td>\n",
              "      <td>Afghanistan</td>\n",
              "      <td>2020-01-03</td>\n",
              "      <td>0.0</td>\n",
              "      <td>0.0</td>\n",
              "      <td>NaN</td>\n",
              "      <td>0.0</td>\n",
              "      <td>0.0</td>\n",
              "      <td>NaN</td>\n",
              "      <td>0.0</td>\n",
              "      <td>0.0</td>\n",
              "      <td>NaN</td>\n",
              "      <td>0.0</td>\n",
              "      <td>0.0</td>\n",
              "      <td>NaN</td>\n",
              "      <td>NaN</td>\n",
              "      <td>NaN</td>\n",
              "      <td>NaN</td>\n",
              "      <td>NaN</td>\n",
              "      <td>NaN</td>\n",
              "      <td>NaN</td>\n",
              "      <td>NaN</td>\n",
              "      <td>NaN</td>\n",
              "      <td>NaN</td>\n",
              "      <td>0.0</td>\n",
              "      <td>38928341.0</td>\n",
              "      <td>54.422</td>\n",
              "      <td>18.6</td>\n",
              "      <td>2.581</td>\n",
              "      <td>1.337</td>\n",
              "      <td>1803.987</td>\n",
              "      <td>NaN</td>\n",
              "      <td>597.029</td>\n",
              "      <td>9.59</td>\n",
              "      <td>NaN</td>\n",
              "      <td>NaN</td>\n",
              "      <td>37.746</td>\n",
              "      <td>0.5</td>\n",
              "      <td>64.83</td>\n",
              "      <td>0.498</td>\n",
              "    </tr>\n",
              "    <tr>\n",
              "      <th>4</th>\n",
              "      <td>AFG</td>\n",
              "      <td>Asia</td>\n",
              "      <td>Afghanistan</td>\n",
              "      <td>2020-01-04</td>\n",
              "      <td>0.0</td>\n",
              "      <td>0.0</td>\n",
              "      <td>NaN</td>\n",
              "      <td>0.0</td>\n",
              "      <td>0.0</td>\n",
              "      <td>NaN</td>\n",
              "      <td>0.0</td>\n",
              "      <td>0.0</td>\n",
              "      <td>NaN</td>\n",
              "      <td>0.0</td>\n",
              "      <td>0.0</td>\n",
              "      <td>NaN</td>\n",
              "      <td>NaN</td>\n",
              "      <td>NaN</td>\n",
              "      <td>NaN</td>\n",
              "      <td>NaN</td>\n",
              "      <td>NaN</td>\n",
              "      <td>NaN</td>\n",
              "      <td>NaN</td>\n",
              "      <td>NaN</td>\n",
              "      <td>NaN</td>\n",
              "      <td>0.0</td>\n",
              "      <td>38928341.0</td>\n",
              "      <td>54.422</td>\n",
              "      <td>18.6</td>\n",
              "      <td>2.581</td>\n",
              "      <td>1.337</td>\n",
              "      <td>1803.987</td>\n",
              "      <td>NaN</td>\n",
              "      <td>597.029</td>\n",
              "      <td>9.59</td>\n",
              "      <td>NaN</td>\n",
              "      <td>NaN</td>\n",
              "      <td>37.746</td>\n",
              "      <td>0.5</td>\n",
              "      <td>64.83</td>\n",
              "      <td>0.498</td>\n",
              "    </tr>\n",
              "    <tr>\n",
              "      <th>...</th>\n",
              "      <td>...</td>\n",
              "      <td>...</td>\n",
              "      <td>...</td>\n",
              "      <td>...</td>\n",
              "      <td>...</td>\n",
              "      <td>...</td>\n",
              "      <td>...</td>\n",
              "      <td>...</td>\n",
              "      <td>...</td>\n",
              "      <td>...</td>\n",
              "      <td>...</td>\n",
              "      <td>...</td>\n",
              "      <td>...</td>\n",
              "      <td>...</td>\n",
              "      <td>...</td>\n",
              "      <td>...</td>\n",
              "      <td>...</td>\n",
              "      <td>...</td>\n",
              "      <td>...</td>\n",
              "      <td>...</td>\n",
              "      <td>...</td>\n",
              "      <td>...</td>\n",
              "      <td>...</td>\n",
              "      <td>...</td>\n",
              "      <td>...</td>\n",
              "      <td>...</td>\n",
              "      <td>...</td>\n",
              "      <td>...</td>\n",
              "      <td>...</td>\n",
              "      <td>...</td>\n",
              "      <td>...</td>\n",
              "      <td>...</td>\n",
              "      <td>...</td>\n",
              "      <td>...</td>\n",
              "      <td>...</td>\n",
              "      <td>...</td>\n",
              "      <td>...</td>\n",
              "      <td>...</td>\n",
              "      <td>...</td>\n",
              "      <td>...</td>\n",
              "      <td>...</td>\n",
              "    </tr>\n",
              "    <tr>\n",
              "      <th>46268</th>\n",
              "      <td>NaN</td>\n",
              "      <td>NaN</td>\n",
              "      <td>International</td>\n",
              "      <td>2020-09-22</td>\n",
              "      <td>696.0</td>\n",
              "      <td>NaN</td>\n",
              "      <td>NaN</td>\n",
              "      <td>7.0</td>\n",
              "      <td>NaN</td>\n",
              "      <td>NaN</td>\n",
              "      <td>NaN</td>\n",
              "      <td>NaN</td>\n",
              "      <td>NaN</td>\n",
              "      <td>NaN</td>\n",
              "      <td>NaN</td>\n",
              "      <td>NaN</td>\n",
              "      <td>NaN</td>\n",
              "      <td>NaN</td>\n",
              "      <td>NaN</td>\n",
              "      <td>NaN</td>\n",
              "      <td>NaN</td>\n",
              "      <td>NaN</td>\n",
              "      <td>NaN</td>\n",
              "      <td>NaN</td>\n",
              "      <td>NaN</td>\n",
              "      <td>NaN</td>\n",
              "      <td>NaN</td>\n",
              "      <td>NaN</td>\n",
              "      <td>NaN</td>\n",
              "      <td>NaN</td>\n",
              "      <td>NaN</td>\n",
              "      <td>NaN</td>\n",
              "      <td>NaN</td>\n",
              "      <td>NaN</td>\n",
              "      <td>NaN</td>\n",
              "      <td>NaN</td>\n",
              "      <td>NaN</td>\n",
              "      <td>NaN</td>\n",
              "      <td>NaN</td>\n",
              "      <td>NaN</td>\n",
              "      <td>NaN</td>\n",
              "    </tr>\n",
              "    <tr>\n",
              "      <th>46269</th>\n",
              "      <td>NaN</td>\n",
              "      <td>NaN</td>\n",
              "      <td>International</td>\n",
              "      <td>2020-09-23</td>\n",
              "      <td>696.0</td>\n",
              "      <td>NaN</td>\n",
              "      <td>NaN</td>\n",
              "      <td>7.0</td>\n",
              "      <td>NaN</td>\n",
              "      <td>NaN</td>\n",
              "      <td>NaN</td>\n",
              "      <td>NaN</td>\n",
              "      <td>NaN</td>\n",
              "      <td>NaN</td>\n",
              "      <td>NaN</td>\n",
              "      <td>NaN</td>\n",
              "      <td>NaN</td>\n",
              "      <td>NaN</td>\n",
              "      <td>NaN</td>\n",
              "      <td>NaN</td>\n",
              "      <td>NaN</td>\n",
              "      <td>NaN</td>\n",
              "      <td>NaN</td>\n",
              "      <td>NaN</td>\n",
              "      <td>NaN</td>\n",
              "      <td>NaN</td>\n",
              "      <td>NaN</td>\n",
              "      <td>NaN</td>\n",
              "      <td>NaN</td>\n",
              "      <td>NaN</td>\n",
              "      <td>NaN</td>\n",
              "      <td>NaN</td>\n",
              "      <td>NaN</td>\n",
              "      <td>NaN</td>\n",
              "      <td>NaN</td>\n",
              "      <td>NaN</td>\n",
              "      <td>NaN</td>\n",
              "      <td>NaN</td>\n",
              "      <td>NaN</td>\n",
              "      <td>NaN</td>\n",
              "      <td>NaN</td>\n",
              "    </tr>\n",
              "    <tr>\n",
              "      <th>46270</th>\n",
              "      <td>NaN</td>\n",
              "      <td>NaN</td>\n",
              "      <td>International</td>\n",
              "      <td>2020-09-24</td>\n",
              "      <td>696.0</td>\n",
              "      <td>NaN</td>\n",
              "      <td>NaN</td>\n",
              "      <td>7.0</td>\n",
              "      <td>NaN</td>\n",
              "      <td>NaN</td>\n",
              "      <td>NaN</td>\n",
              "      <td>NaN</td>\n",
              "      <td>NaN</td>\n",
              "      <td>NaN</td>\n",
              "      <td>NaN</td>\n",
              "      <td>NaN</td>\n",
              "      <td>NaN</td>\n",
              "      <td>NaN</td>\n",
              "      <td>NaN</td>\n",
              "      <td>NaN</td>\n",
              "      <td>NaN</td>\n",
              "      <td>NaN</td>\n",
              "      <td>NaN</td>\n",
              "      <td>NaN</td>\n",
              "      <td>NaN</td>\n",
              "      <td>NaN</td>\n",
              "      <td>NaN</td>\n",
              "      <td>NaN</td>\n",
              "      <td>NaN</td>\n",
              "      <td>NaN</td>\n",
              "      <td>NaN</td>\n",
              "      <td>NaN</td>\n",
              "      <td>NaN</td>\n",
              "      <td>NaN</td>\n",
              "      <td>NaN</td>\n",
              "      <td>NaN</td>\n",
              "      <td>NaN</td>\n",
              "      <td>NaN</td>\n",
              "      <td>NaN</td>\n",
              "      <td>NaN</td>\n",
              "      <td>NaN</td>\n",
              "    </tr>\n",
              "    <tr>\n",
              "      <th>46271</th>\n",
              "      <td>NaN</td>\n",
              "      <td>NaN</td>\n",
              "      <td>International</td>\n",
              "      <td>2020-09-25</td>\n",
              "      <td>696.0</td>\n",
              "      <td>NaN</td>\n",
              "      <td>NaN</td>\n",
              "      <td>7.0</td>\n",
              "      <td>NaN</td>\n",
              "      <td>NaN</td>\n",
              "      <td>NaN</td>\n",
              "      <td>NaN</td>\n",
              "      <td>NaN</td>\n",
              "      <td>NaN</td>\n",
              "      <td>NaN</td>\n",
              "      <td>NaN</td>\n",
              "      <td>NaN</td>\n",
              "      <td>NaN</td>\n",
              "      <td>NaN</td>\n",
              "      <td>NaN</td>\n",
              "      <td>NaN</td>\n",
              "      <td>NaN</td>\n",
              "      <td>NaN</td>\n",
              "      <td>NaN</td>\n",
              "      <td>NaN</td>\n",
              "      <td>NaN</td>\n",
              "      <td>NaN</td>\n",
              "      <td>NaN</td>\n",
              "      <td>NaN</td>\n",
              "      <td>NaN</td>\n",
              "      <td>NaN</td>\n",
              "      <td>NaN</td>\n",
              "      <td>NaN</td>\n",
              "      <td>NaN</td>\n",
              "      <td>NaN</td>\n",
              "      <td>NaN</td>\n",
              "      <td>NaN</td>\n",
              "      <td>NaN</td>\n",
              "      <td>NaN</td>\n",
              "      <td>NaN</td>\n",
              "      <td>NaN</td>\n",
              "    </tr>\n",
              "    <tr>\n",
              "      <th>46272</th>\n",
              "      <td>NaN</td>\n",
              "      <td>NaN</td>\n",
              "      <td>International</td>\n",
              "      <td>2020-09-26</td>\n",
              "      <td>696.0</td>\n",
              "      <td>NaN</td>\n",
              "      <td>NaN</td>\n",
              "      <td>7.0</td>\n",
              "      <td>NaN</td>\n",
              "      <td>NaN</td>\n",
              "      <td>NaN</td>\n",
              "      <td>NaN</td>\n",
              "      <td>NaN</td>\n",
              "      <td>NaN</td>\n",
              "      <td>NaN</td>\n",
              "      <td>NaN</td>\n",
              "      <td>NaN</td>\n",
              "      <td>NaN</td>\n",
              "      <td>NaN</td>\n",
              "      <td>NaN</td>\n",
              "      <td>NaN</td>\n",
              "      <td>NaN</td>\n",
              "      <td>NaN</td>\n",
              "      <td>NaN</td>\n",
              "      <td>NaN</td>\n",
              "      <td>NaN</td>\n",
              "      <td>NaN</td>\n",
              "      <td>NaN</td>\n",
              "      <td>NaN</td>\n",
              "      <td>NaN</td>\n",
              "      <td>NaN</td>\n",
              "      <td>NaN</td>\n",
              "      <td>NaN</td>\n",
              "      <td>NaN</td>\n",
              "      <td>NaN</td>\n",
              "      <td>NaN</td>\n",
              "      <td>NaN</td>\n",
              "      <td>NaN</td>\n",
              "      <td>NaN</td>\n",
              "      <td>NaN</td>\n",
              "      <td>NaN</td>\n",
              "    </tr>\n",
              "  </tbody>\n",
              "</table>\n",
              "<p>46273 rows × 41 columns</p>\n",
              "</div>"
            ],
            "text/plain": [
              "      iso_code continent  ... life_expectancy human_development_index\n",
              "0          AFG      Asia  ...           64.83                   0.498\n",
              "1          AFG      Asia  ...           64.83                   0.498\n",
              "2          AFG      Asia  ...           64.83                   0.498\n",
              "3          AFG      Asia  ...           64.83                   0.498\n",
              "4          AFG      Asia  ...           64.83                   0.498\n",
              "...        ...       ...  ...             ...                     ...\n",
              "46268      NaN       NaN  ...             NaN                     NaN\n",
              "46269      NaN       NaN  ...             NaN                     NaN\n",
              "46270      NaN       NaN  ...             NaN                     NaN\n",
              "46271      NaN       NaN  ...             NaN                     NaN\n",
              "46272      NaN       NaN  ...             NaN                     NaN\n",
              "\n",
              "[46273 rows x 41 columns]"
            ]
          },
          "metadata": {
            "tags": []
          },
          "execution_count": 12
        }
      ]
    },
    {
      "cell_type": "code",
      "metadata": {
        "scrolled": false,
        "id": "yDcAXoTUYOpU",
        "outputId": "4fcdd2d7-81bc-44df-ef59-2f934487ba1a",
        "colab": {
          "base_uri": "https://localhost:8080/",
          "height": 823
        }
      },
      "source": [
        "df.info()"
      ],
      "execution_count": null,
      "outputs": [
        {
          "output_type": "stream",
          "text": [
            "<class 'pandas.core.frame.DataFrame'>\n",
            "RangeIndex: 46273 entries, 0 to 46272\n",
            "Data columns (total 41 columns):\n",
            " #   Column                           Non-Null Count  Dtype  \n",
            "---  ------                           --------------  -----  \n",
            " 0   iso_code                         46002 non-null  object \n",
            " 1   continent                        45731 non-null  object \n",
            " 2   location                         46273 non-null  object \n",
            " 3   date                             46273 non-null  object \n",
            " 4   total_cases                      45659 non-null  float64\n",
            " 5   new_cases                        45452 non-null  float64\n",
            " 6   new_cases_smoothed               44670 non-null  float64\n",
            " 7   total_deaths                     45659 non-null  float64\n",
            " 8   new_deaths                       45452 non-null  float64\n",
            " 9   new_deaths_smoothed              44670 non-null  float64\n",
            " 10  total_cases_per_million          45388 non-null  float64\n",
            " 11  new_cases_per_million            45388 non-null  float64\n",
            " 12  new_cases_smoothed_per_million   44605 non-null  float64\n",
            " 13  total_deaths_per_million         45388 non-null  float64\n",
            " 14  new_deaths_per_million           45388 non-null  float64\n",
            " 15  new_deaths_smoothed_per_million  44605 non-null  float64\n",
            " 16  new_tests                        16450 non-null  float64\n",
            " 17  total_tests                      16850 non-null  float64\n",
            " 18  total_tests_per_thousand         16850 non-null  float64\n",
            " 19  new_tests_per_thousand           16450 non-null  float64\n",
            " 20  new_tests_smoothed               18541 non-null  float64\n",
            " 21  new_tests_smoothed_per_thousand  18541 non-null  float64\n",
            " 22  tests_per_case                   17029 non-null  float64\n",
            " 23  positive_rate                    17457 non-null  float64\n",
            " 24  tests_units                      19374 non-null  object \n",
            " 25  stringency_index                 38373 non-null  float64\n",
            " 26  population                       46002 non-null  float64\n",
            " 27  population_density               43906 non-null  float64\n",
            " 28  median_age                       41265 non-null  float64\n",
            " 29  aged_65_older                    40652 non-null  float64\n",
            " 30  aged_70_older                    41051 non-null  float64\n",
            " 31  gdp_per_capita                   40734 non-null  float64\n",
            " 32  extreme_poverty                  27180 non-null  float64\n",
            " 33  cardiovasc_death_rate            41273 non-null  float64\n",
            " 34  diabetes_prevalence              42728 non-null  float64\n",
            " 35  female_smokers                   32349 non-null  float64\n",
            " 36  male_smokers                     31940 non-null  float64\n",
            " 37  handwashing_facilities           19306 non-null  float64\n",
            " 38  hospital_beds_per_thousand       37295 non-null  float64\n",
            " 39  life_expectancy                  45423 non-null  float64\n",
            " 40  human_development_index          39822 non-null  float64\n",
            "dtypes: float64(36), object(5)\n",
            "memory usage: 14.5+ MB\n"
          ],
          "name": "stdout"
        }
      ]
    },
    {
      "cell_type": "code",
      "metadata": {
        "id": "v1bq-6Y4YOpY",
        "outputId": "2ff0a1d2-b8d3-41d3-a3d5-4484c9dde305",
        "colab": {
          "base_uri": "https://localhost:8080/",
          "height": 672
        }
      },
      "source": [
        "# number of countries and their list\n",
        "print(df['location'].nunique())\n",
        "print(df['location'].unique())"
      ],
      "execution_count": null,
      "outputs": [
        {
          "output_type": "stream",
          "text": [
            "212\n",
            "['Afghanistan' 'Albania' 'Algeria' 'Andorra' 'Angola' 'Anguilla'\n",
            " 'Antigua and Barbuda' 'Argentina' 'Armenia' 'Aruba' 'Australia' 'Austria'\n",
            " 'Azerbaijan' 'Bahamas' 'Bahrain' 'Bangladesh' 'Barbados' 'Belarus'\n",
            " 'Belgium' 'Belize' 'Benin' 'Bermuda' 'Bhutan' 'Bolivia'\n",
            " 'Bonaire Sint Eustatius and Saba' 'Bosnia and Herzegovina' 'Botswana'\n",
            " 'Brazil' 'British Virgin Islands' 'Brunei' 'Bulgaria' 'Burkina Faso'\n",
            " 'Burundi' 'Cambodia' 'Cameroon' 'Canada' 'Cape Verde' 'Cayman Islands'\n",
            " 'Central African Republic' 'Chad' 'Chile' 'China' 'Colombia' 'Comoros'\n",
            " 'Congo' 'Costa Rica' \"Cote d'Ivoire\" 'Croatia' 'Cuba' 'Curacao' 'Cyprus'\n",
            " 'Czech Republic' 'Democratic Republic of Congo' 'Denmark' 'Djibouti'\n",
            " 'Dominica' 'Dominican Republic' 'Ecuador' 'Egypt' 'El Salvador'\n",
            " 'Equatorial Guinea' 'Eritrea' 'Estonia' 'Ethiopia' 'Faeroe Islands'\n",
            " 'Falkland Islands' 'Fiji' 'Finland' 'France' 'French Polynesia' 'Gabon'\n",
            " 'Gambia' 'Georgia' 'Germany' 'Ghana' 'Gibraltar' 'Greece' 'Greenland'\n",
            " 'Grenada' 'Guam' 'Guatemala' 'Guernsey' 'Guinea' 'Guinea-Bissau' 'Guyana'\n",
            " 'Haiti' 'Honduras' 'Hong Kong' 'Hungary' 'Iceland' 'India' 'Indonesia'\n",
            " 'Iran' 'Iraq' 'Ireland' 'Isle of Man' 'Israel' 'Italy' 'Jamaica' 'Japan'\n",
            " 'Jersey' 'Jordan' 'Kazakhstan' 'Kenya' 'Kosovo' 'Kuwait' 'Kyrgyzstan'\n",
            " 'Laos' 'Latvia' 'Lebanon' 'Lesotho' 'Liberia' 'Libya' 'Liechtenstein'\n",
            " 'Lithuania' 'Luxembourg' 'Macedonia' 'Madagascar' 'Malawi' 'Malaysia'\n",
            " 'Maldives' 'Mali' 'Malta' 'Mauritania' 'Mauritius' 'Mexico' 'Moldova'\n",
            " 'Monaco' 'Mongolia' 'Montenegro' 'Montserrat' 'Morocco' 'Mozambique'\n",
            " 'Myanmar' 'Namibia' 'Nepal' 'Netherlands' 'New Caledonia' 'New Zealand'\n",
            " 'Nicaragua' 'Niger' 'Nigeria' 'Northern Mariana Islands' 'Norway' 'Oman'\n",
            " 'Pakistan' 'Palestine' 'Panama' 'Papua New Guinea' 'Paraguay' 'Peru'\n",
            " 'Philippines' 'Poland' 'Portugal' 'Puerto Rico' 'Qatar' 'Romania'\n",
            " 'Russia' 'Rwanda' 'Saint Kitts and Nevis' 'Saint Lucia'\n",
            " 'Saint Vincent and the Grenadines' 'San Marino' 'Sao Tome and Principe'\n",
            " 'Saudi Arabia' 'Senegal' 'Serbia' 'Seychelles' 'Sierra Leone' 'Singapore'\n",
            " 'Sint Maarten (Dutch part)' 'Slovakia' 'Slovenia' 'Somalia'\n",
            " 'South Africa' 'South Korea' 'South Sudan' 'Spain' 'Sri Lanka' 'Sudan'\n",
            " 'Suriname' 'Swaziland' 'Sweden' 'Switzerland' 'Syria' 'Taiwan'\n",
            " 'Tajikistan' 'Tanzania' 'Thailand' 'Timor' 'Togo' 'Trinidad and Tobago'\n",
            " 'Tunisia' 'Turkey' 'Turks and Caicos Islands' 'Uganda' 'Ukraine'\n",
            " 'United Arab Emirates' 'United Kingdom' 'United States'\n",
            " 'United States Virgin Islands' 'Uruguay' 'Uzbekistan' 'Vatican'\n",
            " 'Venezuela' 'Vietnam' 'Western Sahara' 'Yemen' 'Zambia' 'Zimbabwe'\n",
            " 'World' 'International']\n"
          ],
          "name": "stdout"
        }
      ]
    },
    {
      "cell_type": "code",
      "metadata": {
        "id": "pE7pwfDkYOpd",
        "outputId": "f2587d28-2282-4c49-9488-f3971546714d",
        "colab": {
          "base_uri": "https://localhost:8080/",
          "height": 218
        }
      },
      "source": [
        "df['location'].value_counts()"
      ],
      "execution_count": null,
      "outputs": [
        {
          "output_type": "execute_result",
          "data": {
            "text/plain": [
              "Ecuador               271\n",
              "Denmark               271\n",
              "Japan                 271\n",
              "Romania               271\n",
              "Dominican Republic    271\n",
              "                     ... \n",
              "Western Sahara        154\n",
              "Tajikistan            149\n",
              "Comoros               148\n",
              "Lesotho               135\n",
              "Hong Kong              23\n",
              "Name: location, Length: 212, dtype: int64"
            ]
          },
          "metadata": {
            "tags": []
          },
          "execution_count": 15
        }
      ]
    },
    {
      "cell_type": "markdown",
      "metadata": {
        "id": "a7WGLKmMYOpi"
      },
      "source": [
        "### Checking the worst affected countries<br>\n",
        "### We will check both `total deaths` and `total deaths per million`. The latter gives a better idea, keeping the population of country in account."
      ]
    },
    {
      "cell_type": "markdown",
      "metadata": {
        "id": "ViF6bI-BYOpi"
      },
      "source": [
        "### Storing  `total deaths` and `total deaths per million` in dictionaries."
      ]
    },
    {
      "cell_type": "code",
      "metadata": {
        "id": "R0rAHW67YOpj"
      },
      "source": [
        "countries = df['location'].values"
      ],
      "execution_count": null,
      "outputs": []
    },
    {
      "cell_type": "code",
      "metadata": {
        "id": "kUy67rOSYOpo"
      },
      "source": [
        "country_wise_total_deaths = {}\n",
        "country_wise_deaths_per_million = {}\n",
        "for country in countries:\n",
        "    data_temp = df[df['location'] == country]\n",
        "    country_wise_total_deaths[country] = data_temp['total_deaths'].max()\n",
        "    country_wise_deaths_per_million[country] = data_temp['total_deaths_per_million'].max()"
      ],
      "execution_count": null,
      "outputs": []
    },
    {
      "cell_type": "code",
      "metadata": {
        "id": "rizDJEsOYOpt",
        "outputId": "6b12f50a-117b-4193-fbfe-a54ac083922c",
        "colab": {
          "base_uri": "https://localhost:8080/",
          "height": 34
        }
      },
      "source": [
        "# removing world from the dictionaries\n",
        "country_wise_total_deaths.pop('World', None)\n",
        "country_wise_deaths_per_million.pop('World', None)"
      ],
      "execution_count": null,
      "outputs": [
        {
          "output_type": "execute_result",
          "data": {
            "text/plain": [
              "126.973"
            ]
          },
          "metadata": {
            "tags": []
          },
          "execution_count": 18
        }
      ]
    },
    {
      "cell_type": "code",
      "metadata": {
        "id": "ZtfOZrp7YOpw"
      },
      "source": [
        "# taking top 25 countries based on death\n",
        "from collections import Counter\n",
        "k1 = Counter(country_wise_total_deaths)\n",
        "cwtd_25 = k1.most_common(25)\n",
        "\n",
        "k2 = Counter(country_wise_deaths_per_million)\n",
        "cwdpm_25 = k2.most_common(25)"
      ],
      "execution_count": null,
      "outputs": []
    },
    {
      "cell_type": "markdown",
      "metadata": {
        "id": "_asE-Lo_YOpz"
      },
      "source": [
        "## Importing plotting libraries"
      ]
    },
    {
      "cell_type": "code",
      "metadata": {
        "id": "m6FigTE1YOp0",
        "outputId": "97d649f9-21a0-478c-a3ea-7752870e1fee",
        "colab": {
          "base_uri": "https://localhost:8080/",
          "height": 70
        }
      },
      "source": [
        "import matplotlib.pyplot as plt\n",
        "import seaborn as sns\n",
        "%matplotlib inline\n",
        "sns.set()\n",
        "\n",
        "# using jupyter themes for dark mode plot\n",
        "# from jupyterthemes import jtplot\n",
        "# jtplot.style(theme='onedork', ticks=True, grid=True)"
      ],
      "execution_count": null,
      "outputs": [
        {
          "output_type": "stream",
          "text": [
            "/usr/local/lib/python3.6/dist-packages/statsmodels/tools/_testing.py:19: FutureWarning: pandas.util.testing is deprecated. Use the functions in the public API at pandas.testing instead.\n",
            "  import pandas.util.testing as tm\n"
          ],
          "name": "stderr"
        }
      ]
    },
    {
      "cell_type": "code",
      "metadata": {
        "id": "ac-935pMYOp3",
        "outputId": "5d1aa51a-1389-4003-96c2-f104e0e6f9dd",
        "colab": {
          "base_uri": "https://localhost:8080/",
          "height": 399
        }
      },
      "source": [
        "f, axes = plt.subplots(nrows=1, ncols=2, figsize=(15,6))\n",
        "axes[0].bar(*zip(*cwtd_25))\n",
        "axes[0].tick_params(axis='x',labelrotation=90)\n",
        "axes[0].set_ylabel('Total Deaths')\n",
        "\n",
        "axes[1].bar(*zip(*cwdpm_25))\n",
        "axes[1].tick_params(axis='x',labelrotation=90)\n",
        "axes[1].set_ylabel('Total Deaths per million')\n",
        "\n",
        "plt.tight_layout()"
      ],
      "execution_count": null,
      "outputs": [
        {
          "output_type": "display_data",
          "data": {
            "image/png": "[encoded data removed]",
            "text/plain": [
              "<Figure size 1080x432 with 2 Axes>"
            ]
          },
          "metadata": {
            "tags": []
          }
        }
      ]
    },
    {
      "cell_type": "markdown",
      "metadata": {
        "id": "0xk9HCPZYOp5"
      },
      "source": [
        "## This dataframe contains Covid data for all the countries in ascending order based on location i.e., from `Afghanistan` to `Zimbabwe`.\n",
        "## After that total `World` data is also given.<br>\n",
        "### We can focus on the world data or on a single country.<br>\n",
        "### Choosing a country that has gone through both rise and fall in covid cases during the pandemic will give us better insights. Countries like Italy, Spain etc that have gone through phase-3 of this pandemic are more likely to give better understanding of this situation.<br>"
      ]
    },
    {
      "cell_type": "code",
      "metadata": {
        "id": "XLmQzzwDYOp6",
        "outputId": "d8460a56-ecda-484a-dbc1-26544b7e72de",
        "colab": {
          "base_uri": "https://localhost:8080/",
          "height": 661
        }
      },
      "source": [
        "# plotting daily new cases for India, Italy and World\n",
        "lst = ['India', 'Italy', 'World']\n",
        "f, axes = plt.subplots(nrows=3, ncols=1, figsize=(15,10), sharex= True)\n",
        "i = 0\n",
        "for country in lst:\n",
        "    temp_data = df[df['location']==country]\n",
        "#     sns.barplot(x = temp_data['date'], y = temp_data['new_cases'], ax = axes[i])\n",
        "    axes[i].bar(range(temp_data.shape[0]), temp_data['new_cases'])\n",
        "    axes[i].set_title(country, size=15)\n",
        "    axes[i].set_xticks([])\n",
        "    i+=1\n",
        "plt.tight_layout()"
      ],
      "execution_count": null,
      "outputs": [
        {
          "output_type": "display_data",
          "data": {
            "image/png": "[encoded data removed]",
            "text/plain": [
              "<Figure size 1080x720 with 3 Axes>"
            ]
          },
          "metadata": {
            "tags": []
          }
        }
      ]
    },
    {
      "cell_type": "markdown",
      "metadata": {
        "id": "Zu94MCKZYOp8"
      },
      "source": [
        "### We will focus on `Italy` in this study as it has seen an increase and decrease in new cases and now the cases are again increasing."
      ]
    },
    {
      "cell_type": "code",
      "metadata": {
        "scrolled": true,
        "id": "ysDXjOYJYOp9"
      },
      "source": [
        "data = df[df['location'] == 'Italy'].reset_index()\n",
        "data.drop('index', axis=1, inplace=True)"
      ],
      "execution_count": null,
      "outputs": []
    },
    {
      "cell_type": "code",
      "metadata": {
        "id": "A0s2XtzZYOp_",
        "outputId": "105824e9-7dea-4d20-f1d9-61355b18ab9f",
        "colab": {
          "base_uri": "https://localhost:8080/",
          "height": 299
        }
      },
      "source": [
        "data.head()"
      ],
      "execution_count": null,
      "outputs": [
        {
          "output_type": "execute_result",
          "data": {
            "text/html": [
              "<div>\n",
              "<style scoped>\n",
              "    .dataframe tbody tr th:only-of-type {\n",
              "        vertical-align: middle;\n",
              "    }\n",
              "\n",
              "    .dataframe tbody tr th {\n",
              "        vertical-align: top;\n",
              "    }\n",
              "\n",
              "    .dataframe thead th {\n",
              "        text-align: right;\n",
              "    }\n",
              "</style>\n",
              "<table border=\"1\" class=\"dataframe\">\n",
              "  <thead>\n",
              "    <tr style=\"text-align: right;\">\n",
              "      <th></th>\n",
              "      <th>iso_code</th>\n",
              "      <th>continent</th>\n",
              "      <th>location</th>\n",
              "      <th>date</th>\n",
              "      <th>total_cases</th>\n",
              "      <th>new_cases</th>\n",
              "      <th>new_cases_smoothed</th>\n",
              "      <th>total_deaths</th>\n",
              "      <th>new_deaths</th>\n",
              "      <th>new_deaths_smoothed</th>\n",
              "      <th>total_cases_per_million</th>\n",
              "      <th>new_cases_per_million</th>\n",
              "      <th>new_cases_smoothed_per_million</th>\n",
              "      <th>total_deaths_per_million</th>\n",
              "      <th>new_deaths_per_million</th>\n",
              "      <th>new_deaths_smoothed_per_million</th>\n",
              "      <th>new_tests</th>\n",
              "      <th>total_tests</th>\n",
              "      <th>total_tests_per_thousand</th>\n",
              "      <th>new_tests_per_thousand</th>\n",
              "      <th>new_tests_smoothed</th>\n",
              "      <th>new_tests_smoothed_per_thousand</th>\n",
              "      <th>tests_per_case</th>\n",
              "      <th>positive_rate</th>\n",
              "      <th>tests_units</th>\n",
              "      <th>stringency_index</th>\n",
              "      <th>population</th>\n",
              "      <th>population_density</th>\n",
              "      <th>median_age</th>\n",
              "      <th>aged_65_older</th>\n",
              "      <th>aged_70_older</th>\n",
              "      <th>gdp_per_capita</th>\n",
              "      <th>extreme_poverty</th>\n",
              "      <th>cardiovasc_death_rate</th>\n",
              "      <th>diabetes_prevalence</th>\n",
              "      <th>female_smokers</th>\n",
              "      <th>male_smokers</th>\n",
              "      <th>handwashing_facilities</th>\n",
              "      <th>hospital_beds_per_thousand</th>\n",
              "      <th>life_expectancy</th>\n",
              "      <th>human_development_index</th>\n",
              "    </tr>\n",
              "  </thead>\n",
              "  <tbody>\n",
              "    <tr>\n",
              "      <th>0</th>\n",
              "      <td>ITA</td>\n",
              "      <td>Europe</td>\n",
              "      <td>Italy</td>\n",
              "      <td>2019-12-31</td>\n",
              "      <td>0.0</td>\n",
              "      <td>0.0</td>\n",
              "      <td>NaN</td>\n",
              "      <td>0.0</td>\n",
              "      <td>0.0</td>\n",
              "      <td>NaN</td>\n",
              "      <td>0.0</td>\n",
              "      <td>0.0</td>\n",
              "      <td>NaN</td>\n",
              "      <td>0.0</td>\n",
              "      <td>0.0</td>\n",
              "      <td>NaN</td>\n",
              "      <td>NaN</td>\n",
              "      <td>NaN</td>\n",
              "      <td>NaN</td>\n",
              "      <td>NaN</td>\n",
              "      <td>NaN</td>\n",
              "      <td>NaN</td>\n",
              "      <td>NaN</td>\n",
              "      <td>NaN</td>\n",
              "      <td>NaN</td>\n",
              "      <td>NaN</td>\n",
              "      <td>60461828.0</td>\n",
              "      <td>205.859</td>\n",
              "      <td>47.9</td>\n",
              "      <td>23.021</td>\n",
              "      <td>16.24</td>\n",
              "      <td>35220.084</td>\n",
              "      <td>2.0</td>\n",
              "      <td>113.151</td>\n",
              "      <td>4.78</td>\n",
              "      <td>19.8</td>\n",
              "      <td>27.8</td>\n",
              "      <td>NaN</td>\n",
              "      <td>3.18</td>\n",
              "      <td>83.51</td>\n",
              "      <td>0.88</td>\n",
              "    </tr>\n",
              "    <tr>\n",
              "      <th>1</th>\n",
              "      <td>ITA</td>\n",
              "      <td>Europe</td>\n",
              "      <td>Italy</td>\n",
              "      <td>2020-01-01</td>\n",
              "      <td>0.0</td>\n",
              "      <td>0.0</td>\n",
              "      <td>NaN</td>\n",
              "      <td>0.0</td>\n",
              "      <td>0.0</td>\n",
              "      <td>NaN</td>\n",
              "      <td>0.0</td>\n",
              "      <td>0.0</td>\n",
              "      <td>NaN</td>\n",
              "      <td>0.0</td>\n",
              "      <td>0.0</td>\n",
              "      <td>NaN</td>\n",
              "      <td>NaN</td>\n",
              "      <td>NaN</td>\n",
              "      <td>NaN</td>\n",
              "      <td>NaN</td>\n",
              "      <td>NaN</td>\n",
              "      <td>NaN</td>\n",
              "      <td>NaN</td>\n",
              "      <td>NaN</td>\n",
              "      <td>NaN</td>\n",
              "      <td>0.0</td>\n",
              "      <td>60461828.0</td>\n",
              "      <td>205.859</td>\n",
              "      <td>47.9</td>\n",
              "      <td>23.021</td>\n",
              "      <td>16.24</td>\n",
              "      <td>35220.084</td>\n",
              "      <td>2.0</td>\n",
              "      <td>113.151</td>\n",
              "      <td>4.78</td>\n",
              "      <td>19.8</td>\n",
              "      <td>27.8</td>\n",
              "      <td>NaN</td>\n",
              "      <td>3.18</td>\n",
              "      <td>83.51</td>\n",
              "      <td>0.88</td>\n",
              "    </tr>\n",
              "    <tr>\n",
              "      <th>2</th>\n",
              "      <td>ITA</td>\n",
              "      <td>Europe</td>\n",
              "      <td>Italy</td>\n",
              "      <td>2020-01-02</td>\n",
              "      <td>0.0</td>\n",
              "      <td>0.0</td>\n",
              "      <td>NaN</td>\n",
              "      <td>0.0</td>\n",
              "      <td>0.0</td>\n",
              "      <td>NaN</td>\n",
              "      <td>0.0</td>\n",
              "      <td>0.0</td>\n",
              "      <td>NaN</td>\n",
              "      <td>0.0</td>\n",
              "      <td>0.0</td>\n",
              "      <td>NaN</td>\n",
              "      <td>NaN</td>\n",
              "      <td>NaN</td>\n",
              "      <td>NaN</td>\n",
              "      <td>NaN</td>\n",
              "      <td>NaN</td>\n",
              "      <td>NaN</td>\n",
              "      <td>NaN</td>\n",
              "      <td>NaN</td>\n",
              "      <td>NaN</td>\n",
              "      <td>0.0</td>\n",
              "      <td>60461828.0</td>\n",
              "      <td>205.859</td>\n",
              "      <td>47.9</td>\n",
              "      <td>23.021</td>\n",
              "      <td>16.24</td>\n",
              "      <td>35220.084</td>\n",
              "      <td>2.0</td>\n",
              "      <td>113.151</td>\n",
              "      <td>4.78</td>\n",
              "      <td>19.8</td>\n",
              "      <td>27.8</td>\n",
              "      <td>NaN</td>\n",
              "      <td>3.18</td>\n",
              "      <td>83.51</td>\n",
              "      <td>0.88</td>\n",
              "    </tr>\n",
              "    <tr>\n",
              "      <th>3</th>\n",
              "      <td>ITA</td>\n",
              "      <td>Europe</td>\n",
              "      <td>Italy</td>\n",
              "      <td>2020-01-03</td>\n",
              "      <td>0.0</td>\n",
              "      <td>0.0</td>\n",
              "      <td>NaN</td>\n",
              "      <td>0.0</td>\n",
              "      <td>0.0</td>\n",
              "      <td>NaN</td>\n",
              "      <td>0.0</td>\n",
              "      <td>0.0</td>\n",
              "      <td>NaN</td>\n",
              "      <td>0.0</td>\n",
              "      <td>0.0</td>\n",
              "      <td>NaN</td>\n",
              "      <td>NaN</td>\n",
              "      <td>NaN</td>\n",
              "      <td>NaN</td>\n",
              "      <td>NaN</td>\n",
              "      <td>NaN</td>\n",
              "      <td>NaN</td>\n",
              "      <td>NaN</td>\n",
              "      <td>NaN</td>\n",
              "      <td>NaN</td>\n",
              "      <td>0.0</td>\n",
              "      <td>60461828.0</td>\n",
              "      <td>205.859</td>\n",
              "      <td>47.9</td>\n",
              "      <td>23.021</td>\n",
              "      <td>16.24</td>\n",
              "      <td>35220.084</td>\n",
              "      <td>2.0</td>\n",
              "      <td>113.151</td>\n",
              "      <td>4.78</td>\n",
              "      <td>19.8</td>\n",
              "      <td>27.8</td>\n",
              "      <td>NaN</td>\n",
              "      <td>3.18</td>\n",
              "      <td>83.51</td>\n",
              "      <td>0.88</td>\n",
              "    </tr>\n",
              "    <tr>\n",
              "      <th>4</th>\n",
              "      <td>ITA</td>\n",
              "      <td>Europe</td>\n",
              "      <td>Italy</td>\n",
              "      <td>2020-01-04</td>\n",
              "      <td>0.0</td>\n",
              "      <td>0.0</td>\n",
              "      <td>NaN</td>\n",
              "      <td>0.0</td>\n",
              "      <td>0.0</td>\n",
              "      <td>NaN</td>\n",
              "      <td>0.0</td>\n",
              "      <td>0.0</td>\n",
              "      <td>NaN</td>\n",
              "      <td>0.0</td>\n",
              "      <td>0.0</td>\n",
              "      <td>NaN</td>\n",
              "      <td>NaN</td>\n",
              "      <td>NaN</td>\n",
              "      <td>NaN</td>\n",
              "      <td>NaN</td>\n",
              "      <td>NaN</td>\n",
              "      <td>NaN</td>\n",
              "      <td>NaN</td>\n",
              "      <td>NaN</td>\n",
              "      <td>NaN</td>\n",
              "      <td>0.0</td>\n",
              "      <td>60461828.0</td>\n",
              "      <td>205.859</td>\n",
              "      <td>47.9</td>\n",
              "      <td>23.021</td>\n",
              "      <td>16.24</td>\n",
              "      <td>35220.084</td>\n",
              "      <td>2.0</td>\n",
              "      <td>113.151</td>\n",
              "      <td>4.78</td>\n",
              "      <td>19.8</td>\n",
              "      <td>27.8</td>\n",
              "      <td>NaN</td>\n",
              "      <td>3.18</td>\n",
              "      <td>83.51</td>\n",
              "      <td>0.88</td>\n",
              "    </tr>\n",
              "  </tbody>\n",
              "</table>\n",
              "</div>"
            ],
            "text/plain": [
              "  iso_code continent  ... life_expectancy human_development_index\n",
              "0      ITA    Europe  ...           83.51                    0.88\n",
              "1      ITA    Europe  ...           83.51                    0.88\n",
              "2      ITA    Europe  ...           83.51                    0.88\n",
              "3      ITA    Europe  ...           83.51                    0.88\n",
              "4      ITA    Europe  ...           83.51                    0.88\n",
              "\n",
              "[5 rows x 41 columns]"
            ]
          },
          "metadata": {
            "tags": []
          },
          "execution_count": 24
        }
      ]
    },
    {
      "cell_type": "code",
      "metadata": {
        "id": "-DRvtgV0YOqD",
        "outputId": "8f4ab8f8-45cb-4d23-e7e3-4ea26818f957",
        "colab": {
          "base_uri": "https://localhost:8080/",
          "height": 823
        }
      },
      "source": [
        "data.info()"
      ],
      "execution_count": null,
      "outputs": [
        {
          "output_type": "stream",
          "text": [
            "<class 'pandas.core.frame.DataFrame'>\n",
            "RangeIndex: 271 entries, 0 to 270\n",
            "Data columns (total 41 columns):\n",
            " #   Column                           Non-Null Count  Dtype  \n",
            "---  ------                           --------------  -----  \n",
            " 0   iso_code                         271 non-null    object \n",
            " 1   continent                        271 non-null    object \n",
            " 2   location                         271 non-null    object \n",
            " 3   date                             271 non-null    object \n",
            " 4   total_cases                      271 non-null    float64\n",
            " 5   new_cases                        271 non-null    float64\n",
            " 6   new_cases_smoothed               265 non-null    float64\n",
            " 7   total_deaths                     271 non-null    float64\n",
            " 8   new_deaths                       271 non-null    float64\n",
            " 9   new_deaths_smoothed              265 non-null    float64\n",
            " 10  total_cases_per_million          271 non-null    float64\n",
            " 11  new_cases_per_million            271 non-null    float64\n",
            " 12  new_cases_smoothed_per_million   265 non-null    float64\n",
            " 13  total_deaths_per_million         271 non-null    float64\n",
            " 14  new_deaths_per_million           271 non-null    float64\n",
            " 15  new_deaths_smoothed_per_million  265 non-null    float64\n",
            " 16  new_tests                        158 non-null    float64\n",
            " 17  total_tests                      159 non-null    float64\n",
            " 18  total_tests_per_thousand         159 non-null    float64\n",
            " 19  new_tests_per_thousand           158 non-null    float64\n",
            " 20  new_tests_smoothed               152 non-null    float64\n",
            " 21  new_tests_smoothed_per_thousand  152 non-null    float64\n",
            " 22  tests_per_case                   152 non-null    float64\n",
            " 23  positive_rate                    152 non-null    float64\n",
            " 24  tests_units                      159 non-null    object \n",
            " 25  stringency_index                 267 non-null    float64\n",
            " 26  population                       271 non-null    float64\n",
            " 27  population_density               271 non-null    float64\n",
            " 28  median_age                       271 non-null    float64\n",
            " 29  aged_65_older                    271 non-null    float64\n",
            " 30  aged_70_older                    271 non-null    float64\n",
            " 31  gdp_per_capita                   271 non-null    float64\n",
            " 32  extreme_poverty                  271 non-null    float64\n",
            " 33  cardiovasc_death_rate            271 non-null    float64\n",
            " 34  diabetes_prevalence              271 non-null    float64\n",
            " 35  female_smokers                   271 non-null    float64\n",
            " 36  male_smokers                     271 non-null    float64\n",
            " 37  handwashing_facilities           0 non-null      float64\n",
            " 38  hospital_beds_per_thousand       271 non-null    float64\n",
            " 39  life_expectancy                  271 non-null    float64\n",
            " 40  human_development_index          271 non-null    float64\n",
            "dtypes: float64(36), object(5)\n",
            "memory usage: 86.9+ KB\n"
          ],
          "name": "stdout"
        }
      ]
    },
    {
      "cell_type": "markdown",
      "metadata": {
        "id": "5usZYtGfYOqG"
      },
      "source": [
        "### As the dataset is too small and there are too many features, this can cause underfitting of the model. Many of these features are derived from other columns (like total cases, new cases, deaths etc). We will take only the important non null columns for analysis."
      ]
    },
    {
      "cell_type": "code",
      "metadata": {
        "id": "uVaVCd4VYOqG",
        "outputId": "9285d3cc-897e-4ec7-bec1-b16d4151a129",
        "colab": {
          "base_uri": "https://localhost:8080/",
          "height": 590
        }
      },
      "source": [
        "data_non_null = data.dropna(axis=1, how='any')\n",
        "data_non_null"
      ],
      "execution_count": null,
      "outputs": [
        {
          "output_type": "execute_result",
          "data": {
            "text/html": [
              "<div>\n",
              "<style scoped>\n",
              "    .dataframe tbody tr th:only-of-type {\n",
              "        vertical-align: middle;\n",
              "    }\n",
              "\n",
              "    .dataframe tbody tr th {\n",
              "        vertical-align: top;\n",
              "    }\n",
              "\n",
              "    .dataframe thead th {\n",
              "        text-align: right;\n",
              "    }\n",
              "</style>\n",
              "<table border=\"1\" class=\"dataframe\">\n",
              "  <thead>\n",
              "    <tr style=\"text-align: right;\">\n",
              "      <th></th>\n",
              "      <th>iso_code</th>\n",
              "      <th>continent</th>\n",
              "      <th>location</th>\n",
              "      <th>date</th>\n",
              "      <th>total_cases</th>\n",
              "      <th>new_cases</th>\n",
              "      <th>total_deaths</th>\n",
              "      <th>new_deaths</th>\n",
              "      <th>total_cases_per_million</th>\n",
              "      <th>new_cases_per_million</th>\n",
              "      <th>total_deaths_per_million</th>\n",
              "      <th>new_deaths_per_million</th>\n",
              "      <th>population</th>\n",
              "      <th>population_density</th>\n",
              "      <th>median_age</th>\n",
              "      <th>aged_65_older</th>\n",
              "      <th>aged_70_older</th>\n",
              "      <th>gdp_per_capita</th>\n",
              "      <th>extreme_poverty</th>\n",
              "      <th>cardiovasc_death_rate</th>\n",
              "      <th>diabetes_prevalence</th>\n",
              "      <th>female_smokers</th>\n",
              "      <th>male_smokers</th>\n",
              "      <th>hospital_beds_per_thousand</th>\n",
              "      <th>life_expectancy</th>\n",
              "      <th>human_development_index</th>\n",
              "    </tr>\n",
              "  </thead>\n",
              "  <tbody>\n",
              "    <tr>\n",
              "      <th>0</th>\n",
              "      <td>ITA</td>\n",
              "      <td>Europe</td>\n",
              "      <td>Italy</td>\n",
              "      <td>2019-12-31</td>\n",
              "      <td>0.0</td>\n",
              "      <td>0.0</td>\n",
              "      <td>0.0</td>\n",
              "      <td>0.0</td>\n",
              "      <td>0.000</td>\n",
              "      <td>0.000</td>\n",
              "      <td>0.000</td>\n",
              "      <td>0.000</td>\n",
              "      <td>60461828.0</td>\n",
              "      <td>205.859</td>\n",
              "      <td>47.9</td>\n",
              "      <td>23.021</td>\n",
              "      <td>16.24</td>\n",
              "      <td>35220.084</td>\n",
              "      <td>2.0</td>\n",
              "      <td>113.151</td>\n",
              "      <td>4.78</td>\n",
              "      <td>19.8</td>\n",
              "      <td>27.8</td>\n",
              "      <td>3.18</td>\n",
              "      <td>83.51</td>\n",
              "      <td>0.88</td>\n",
              "    </tr>\n",
              "    <tr>\n",
              "      <th>1</th>\n",
              "      <td>ITA</td>\n",
              "      <td>Europe</td>\n",
              "      <td>Italy</td>\n",
              "      <td>2020-01-01</td>\n",
              "      <td>0.0</td>\n",
              "      <td>0.0</td>\n",
              "      <td>0.0</td>\n",
              "      <td>0.0</td>\n",
              "      <td>0.000</td>\n",
              "      <td>0.000</td>\n",
              "      <td>0.000</td>\n",
              "      <td>0.000</td>\n",
              "      <td>60461828.0</td>\n",
              "      <td>205.859</td>\n",
              "      <td>47.9</td>\n",
              "      <td>23.021</td>\n",
              "      <td>16.24</td>\n",
              "      <td>35220.084</td>\n",
              "      <td>2.0</td>\n",
              "      <td>113.151</td>\n",
              "      <td>4.78</td>\n",
              "      <td>19.8</td>\n",
              "      <td>27.8</td>\n",
              "      <td>3.18</td>\n",
              "      <td>83.51</td>\n",
              "      <td>0.88</td>\n",
              "    </tr>\n",
              "    <tr>\n",
              "      <th>2</th>\n",
              "      <td>ITA</td>\n",
              "      <td>Europe</td>\n",
              "      <td>Italy</td>\n",
              "      <td>2020-01-02</td>\n",
              "      <td>0.0</td>\n",
              "      <td>0.0</td>\n",
              "      <td>0.0</td>\n",
              "      <td>0.0</td>\n",
              "      <td>0.000</td>\n",
              "      <td>0.000</td>\n",
              "      <td>0.000</td>\n",
              "      <td>0.000</td>\n",
              "      <td>60461828.0</td>\n",
              "      <td>205.859</td>\n",
              "      <td>47.9</td>\n",
              "      <td>23.021</td>\n",
              "      <td>16.24</td>\n",
              "      <td>35220.084</td>\n",
              "      <td>2.0</td>\n",
              "      <td>113.151</td>\n",
              "      <td>4.78</td>\n",
              "      <td>19.8</td>\n",
              "      <td>27.8</td>\n",
              "      <td>3.18</td>\n",
              "      <td>83.51</td>\n",
              "      <td>0.88</td>\n",
              "    </tr>\n",
              "    <tr>\n",
              "      <th>3</th>\n",
              "      <td>ITA</td>\n",
              "      <td>Europe</td>\n",
              "      <td>Italy</td>\n",
              "      <td>2020-01-03</td>\n",
              "      <td>0.0</td>\n",
              "      <td>0.0</td>\n",
              "      <td>0.0</td>\n",
              "      <td>0.0</td>\n",
              "      <td>0.000</td>\n",
              "      <td>0.000</td>\n",
              "      <td>0.000</td>\n",
              "      <td>0.000</td>\n",
              "      <td>60461828.0</td>\n",
              "      <td>205.859</td>\n",
              "      <td>47.9</td>\n",
              "      <td>23.021</td>\n",
              "      <td>16.24</td>\n",
              "      <td>35220.084</td>\n",
              "      <td>2.0</td>\n",
              "      <td>113.151</td>\n",
              "      <td>4.78</td>\n",
              "      <td>19.8</td>\n",
              "      <td>27.8</td>\n",
              "      <td>3.18</td>\n",
              "      <td>83.51</td>\n",
              "      <td>0.88</td>\n",
              "    </tr>\n",
              "    <tr>\n",
              "      <th>4</th>\n",
              "      <td>ITA</td>\n",
              "      <td>Europe</td>\n",
              "      <td>Italy</td>\n",
              "      <td>2020-01-04</td>\n",
              "      <td>0.0</td>\n",
              "      <td>0.0</td>\n",
              "      <td>0.0</td>\n",
              "      <td>0.0</td>\n",
              "      <td>0.000</td>\n",
              "      <td>0.000</td>\n",
              "      <td>0.000</td>\n",
              "      <td>0.000</td>\n",
              "      <td>60461828.0</td>\n",
              "      <td>205.859</td>\n",
              "      <td>47.9</td>\n",
              "      <td>23.021</td>\n",
              "      <td>16.24</td>\n",
              "      <td>35220.084</td>\n",
              "      <td>2.0</td>\n",
              "      <td>113.151</td>\n",
              "      <td>4.78</td>\n",
              "      <td>19.8</td>\n",
              "      <td>27.8</td>\n",
              "      <td>3.18</td>\n",
              "      <td>83.51</td>\n",
              "      <td>0.88</td>\n",
              "    </tr>\n",
              "    <tr>\n",
              "      <th>...</th>\n",
              "      <td>...</td>\n",
              "      <td>...</td>\n",
              "      <td>...</td>\n",
              "      <td>...</td>\n",
              "      <td>...</td>\n",
              "      <td>...</td>\n",
              "      <td>...</td>\n",
              "      <td>...</td>\n",
              "      <td>...</td>\n",
              "      <td>...</td>\n",
              "      <td>...</td>\n",
              "      <td>...</td>\n",
              "      <td>...</td>\n",
              "      <td>...</td>\n",
              "      <td>...</td>\n",
              "      <td>...</td>\n",
              "      <td>...</td>\n",
              "      <td>...</td>\n",
              "      <td>...</td>\n",
              "      <td>...</td>\n",
              "      <td>...</td>\n",
              "      <td>...</td>\n",
              "      <td>...</td>\n",
              "      <td>...</td>\n",
              "      <td>...</td>\n",
              "      <td>...</td>\n",
              "    </tr>\n",
              "    <tr>\n",
              "      <th>266</th>\n",
              "      <td>ITA</td>\n",
              "      <td>Europe</td>\n",
              "      <td>Italy</td>\n",
              "      <td>2020-09-22</td>\n",
              "      <td>299506.0</td>\n",
              "      <td>1350.0</td>\n",
              "      <td>35724.0</td>\n",
              "      <td>17.0</td>\n",
              "      <td>4953.638</td>\n",
              "      <td>22.328</td>\n",
              "      <td>590.852</td>\n",
              "      <td>0.281</td>\n",
              "      <td>60461828.0</td>\n",
              "      <td>205.859</td>\n",
              "      <td>47.9</td>\n",
              "      <td>23.021</td>\n",
              "      <td>16.24</td>\n",
              "      <td>35220.084</td>\n",
              "      <td>2.0</td>\n",
              "      <td>113.151</td>\n",
              "      <td>4.78</td>\n",
              "      <td>19.8</td>\n",
              "      <td>27.8</td>\n",
              "      <td>3.18</td>\n",
              "      <td>83.51</td>\n",
              "      <td>0.88</td>\n",
              "    </tr>\n",
              "    <tr>\n",
              "      <th>267</th>\n",
              "      <td>ITA</td>\n",
              "      <td>Europe</td>\n",
              "      <td>Italy</td>\n",
              "      <td>2020-09-23</td>\n",
              "      <td>300897.0</td>\n",
              "      <td>1391.0</td>\n",
              "      <td>35738.0</td>\n",
              "      <td>14.0</td>\n",
              "      <td>4976.644</td>\n",
              "      <td>23.006</td>\n",
              "      <td>591.084</td>\n",
              "      <td>0.232</td>\n",
              "      <td>60461828.0</td>\n",
              "      <td>205.859</td>\n",
              "      <td>47.9</td>\n",
              "      <td>23.021</td>\n",
              "      <td>16.24</td>\n",
              "      <td>35220.084</td>\n",
              "      <td>2.0</td>\n",
              "      <td>113.151</td>\n",
              "      <td>4.78</td>\n",
              "      <td>19.8</td>\n",
              "      <td>27.8</td>\n",
              "      <td>3.18</td>\n",
              "      <td>83.51</td>\n",
              "      <td>0.88</td>\n",
              "    </tr>\n",
              "    <tr>\n",
              "      <th>268</th>\n",
              "      <td>ITA</td>\n",
              "      <td>Europe</td>\n",
              "      <td>Italy</td>\n",
              "      <td>2020-09-24</td>\n",
              "      <td>302537.0</td>\n",
              "      <td>1640.0</td>\n",
              "      <td>35758.0</td>\n",
              "      <td>20.0</td>\n",
              "      <td>5003.769</td>\n",
              "      <td>27.125</td>\n",
              "      <td>591.414</td>\n",
              "      <td>0.331</td>\n",
              "      <td>60461828.0</td>\n",
              "      <td>205.859</td>\n",
              "      <td>47.9</td>\n",
              "      <td>23.021</td>\n",
              "      <td>16.24</td>\n",
              "      <td>35220.084</td>\n",
              "      <td>2.0</td>\n",
              "      <td>113.151</td>\n",
              "      <td>4.78</td>\n",
              "      <td>19.8</td>\n",
              "      <td>27.8</td>\n",
              "      <td>3.18</td>\n",
              "      <td>83.51</td>\n",
              "      <td>0.88</td>\n",
              "    </tr>\n",
              "    <tr>\n",
              "      <th>269</th>\n",
              "      <td>ITA</td>\n",
              "      <td>Europe</td>\n",
              "      <td>Italy</td>\n",
              "      <td>2020-09-25</td>\n",
              "      <td>304323.0</td>\n",
              "      <td>1786.0</td>\n",
              "      <td>35781.0</td>\n",
              "      <td>23.0</td>\n",
              "      <td>5033.308</td>\n",
              "      <td>29.539</td>\n",
              "      <td>591.795</td>\n",
              "      <td>0.380</td>\n",
              "      <td>60461828.0</td>\n",
              "      <td>205.859</td>\n",
              "      <td>47.9</td>\n",
              "      <td>23.021</td>\n",
              "      <td>16.24</td>\n",
              "      <td>35220.084</td>\n",
              "      <td>2.0</td>\n",
              "      <td>113.151</td>\n",
              "      <td>4.78</td>\n",
              "      <td>19.8</td>\n",
              "      <td>27.8</td>\n",
              "      <td>3.18</td>\n",
              "      <td>83.51</td>\n",
              "      <td>0.88</td>\n",
              "    </tr>\n",
              "    <tr>\n",
              "      <th>270</th>\n",
              "      <td>ITA</td>\n",
              "      <td>Europe</td>\n",
              "      <td>Italy</td>\n",
              "      <td>2020-09-26</td>\n",
              "      <td>306235.0</td>\n",
              "      <td>1912.0</td>\n",
              "      <td>35801.0</td>\n",
              "      <td>20.0</td>\n",
              "      <td>5064.931</td>\n",
              "      <td>31.623</td>\n",
              "      <td>592.126</td>\n",
              "      <td>0.331</td>\n",
              "      <td>60461828.0</td>\n",
              "      <td>205.859</td>\n",
              "      <td>47.9</td>\n",
              "      <td>23.021</td>\n",
              "      <td>16.24</td>\n",
              "      <td>35220.084</td>\n",
              "      <td>2.0</td>\n",
              "      <td>113.151</td>\n",
              "      <td>4.78</td>\n",
              "      <td>19.8</td>\n",
              "      <td>27.8</td>\n",
              "      <td>3.18</td>\n",
              "      <td>83.51</td>\n",
              "      <td>0.88</td>\n",
              "    </tr>\n",
              "  </tbody>\n",
              "</table>\n",
              "<p>271 rows × 26 columns</p>\n",
              "</div>"
            ],
            "text/plain": [
              "    iso_code continent  ... life_expectancy human_development_index\n",
              "0        ITA    Europe  ...           83.51                    0.88\n",
              "1        ITA    Europe  ...           83.51                    0.88\n",
              "2        ITA    Europe  ...           83.51                    0.88\n",
              "3        ITA    Europe  ...           83.51                    0.88\n",
              "4        ITA    Europe  ...           83.51                    0.88\n",
              "..       ...       ...  ...             ...                     ...\n",
              "266      ITA    Europe  ...           83.51                    0.88\n",
              "267      ITA    Europe  ...           83.51                    0.88\n",
              "268      ITA    Europe  ...           83.51                    0.88\n",
              "269      ITA    Europe  ...           83.51                    0.88\n",
              "270      ITA    Europe  ...           83.51                    0.88\n",
              "\n",
              "[271 rows x 26 columns]"
            ]
          },
          "metadata": {
            "tags": []
          },
          "execution_count": 26
        }
      ]
    },
    {
      "cell_type": "markdown",
      "metadata": {
        "id": "bg6FyIkbYOqJ"
      },
      "source": [
        "### The columns of utmost importance like `total_cases`, `new_cases`, `total_deaths`, `new_deaths`, `total_cases_per_million` are still there."
      ]
    },
    {
      "cell_type": "code",
      "metadata": {
        "id": "zHg_w4geYOqK",
        "outputId": "0de0d0e7-149c-4d3f-c9a8-0b36d7439f51",
        "colab": {
          "base_uri": "https://localhost:8080/",
          "height": 571
        }
      },
      "source": [
        "data_non_null.info()"
      ],
      "execution_count": null,
      "outputs": [
        {
          "output_type": "stream",
          "text": [
            "<class 'pandas.core.frame.DataFrame'>\n",
            "RangeIndex: 271 entries, 0 to 270\n",
            "Data columns (total 26 columns):\n",
            " #   Column                      Non-Null Count  Dtype  \n",
            "---  ------                      --------------  -----  \n",
            " 0   iso_code                    271 non-null    object \n",
            " 1   continent                   271 non-null    object \n",
            " 2   location                    271 non-null    object \n",
            " 3   date                        271 non-null    object \n",
            " 4   total_cases                 271 non-null    float64\n",
            " 5   new_cases                   271 non-null    float64\n",
            " 6   total_deaths                271 non-null    float64\n",
            " 7   new_deaths                  271 non-null    float64\n",
            " 8   total_cases_per_million     271 non-null    float64\n",
            " 9   new_cases_per_million       271 non-null    float64\n",
            " 10  total_deaths_per_million    271 non-null    float64\n",
            " 11  new_deaths_per_million      271 non-null    float64\n",
            " 12  population                  271 non-null    float64\n",
            " 13  population_density          271 non-null    float64\n",
            " 14  median_age                  271 non-null    float64\n",
            " 15  aged_65_older               271 non-null    float64\n",
            " 16  aged_70_older               271 non-null    float64\n",
            " 17  gdp_per_capita              271 non-null    float64\n",
            " 18  extreme_poverty             271 non-null    float64\n",
            " 19  cardiovasc_death_rate       271 non-null    float64\n",
            " 20  diabetes_prevalence         271 non-null    float64\n",
            " 21  female_smokers              271 non-null    float64\n",
            " 22  male_smokers                271 non-null    float64\n",
            " 23  hospital_beds_per_thousand  271 non-null    float64\n",
            " 24  life_expectancy             271 non-null    float64\n",
            " 25  human_development_index     271 non-null    float64\n",
            "dtypes: float64(22), object(4)\n",
            "memory usage: 55.2+ KB\n"
          ],
          "name": "stdout"
        }
      ]
    },
    {
      "cell_type": "code",
      "metadata": {
        "id": "y3SO4HU5YOqN",
        "outputId": "cbabf859-3eb1-4f55-81ce-309d4ee603eb",
        "colab": {
          "base_uri": "https://localhost:8080/",
          "height": 454
        }
      },
      "source": [
        "# checking unique values in each column\n",
        "for col in data_non_null.columns:\n",
        "    print(col, data_non_null[col].nunique())"
      ],
      "execution_count": null,
      "outputs": [
        {
          "output_type": "stream",
          "text": [
            "iso_code 1\n",
            "continent 1\n",
            "location 1\n",
            "date 271\n",
            "total_cases 220\n",
            "new_cases 211\n",
            "total_deaths 217\n",
            "new_deaths 130\n",
            "total_cases_per_million 220\n",
            "new_cases_per_million 211\n",
            "total_deaths_per_million 217\n",
            "new_deaths_per_million 130\n",
            "population 1\n",
            "population_density 1\n",
            "median_age 1\n",
            "aged_65_older 1\n",
            "aged_70_older 1\n",
            "gdp_per_capita 1\n",
            "extreme_poverty 1\n",
            "cardiovasc_death_rate 1\n",
            "diabetes_prevalence 1\n",
            "female_smokers 1\n",
            "male_smokers 1\n",
            "hospital_beds_per_thousand 1\n",
            "life_expectancy 1\n",
            "human_development_index 1\n"
          ],
          "name": "stdout"
        }
      ]
    },
    {
      "cell_type": "markdown",
      "metadata": {
        "id": "B3DDNYQxYOqU"
      },
      "source": [
        "We can see that there are columns that have only one unique value per column. These are the column that repreent something that is unique to a particular country (in this case `Italy`) such as `gdp_per_capita`, `human_development_index`.<br>\n",
        "These columns will be useful when we have to compare two countries or a coutry wrt world data.\n",
        "These columns will not contribute to our forcast, so we will drop these columns."
      ]
    },
    {
      "cell_type": "code",
      "metadata": {
        "id": "ecPP0LrPYOqV"
      },
      "source": [
        "unique_val_cols = []\n",
        "for col in data_non_null.columns:\n",
        "    if data_non_null[col].nunique() == 1:\n",
        "        unique_val_cols.append(col)"
      ],
      "execution_count": null,
      "outputs": []
    },
    {
      "cell_type": "code",
      "metadata": {
        "id": "UFUifxLYYOqZ",
        "outputId": "79e55b01-9e49-4a42-f46c-b62833de80cd",
        "colab": {
          "base_uri": "https://localhost:8080/",
          "height": 302
        }
      },
      "source": [
        "unique_val_cols"
      ],
      "execution_count": null,
      "outputs": [
        {
          "output_type": "execute_result",
          "data": {
            "text/plain": [
              "['iso_code',\n",
              " 'continent',\n",
              " 'location',\n",
              " 'population',\n",
              " 'population_density',\n",
              " 'median_age',\n",
              " 'aged_65_older',\n",
              " 'aged_70_older',\n",
              " 'gdp_per_capita',\n",
              " 'extreme_poverty',\n",
              " 'cardiovasc_death_rate',\n",
              " 'diabetes_prevalence',\n",
              " 'female_smokers',\n",
              " 'male_smokers',\n",
              " 'hospital_beds_per_thousand',\n",
              " 'life_expectancy',\n",
              " 'human_development_index']"
            ]
          },
          "metadata": {
            "tags": []
          },
          "execution_count": 30
        }
      ]
    },
    {
      "cell_type": "code",
      "metadata": {
        "id": "a9iWTFhnYOqc"
      },
      "source": [
        "data_italy = data_non_null.drop(unique_val_cols, axis = 1)"
      ],
      "execution_count": null,
      "outputs": []
    },
    {
      "cell_type": "code",
      "metadata": {
        "id": "vfDRh9obYOqe",
        "outputId": "820fe6d2-f0a4-48fe-d29b-87c3f7031e44",
        "colab": {
          "base_uri": "https://localhost:8080/",
          "height": 590
        }
      },
      "source": [
        "data_italy"
      ],
      "execution_count": null,
      "outputs": [
        {
          "output_type": "execute_result",
          "data": {
            "text/html": [
              "<div>\n",
              "<style scoped>\n",
              "    .dataframe tbody tr th:only-of-type {\n",
              "        vertical-align: middle;\n",
              "    }\n",
              "\n",
              "    .dataframe tbody tr th {\n",
              "        vertical-align: top;\n",
              "    }\n",
              "\n",
              "    .dataframe thead th {\n",
              "        text-align: right;\n",
              "    }\n",
              "</style>\n",
              "<table border=\"1\" class=\"dataframe\">\n",
              "  <thead>\n",
              "    <tr style=\"text-align: right;\">\n",
              "      <th></th>\n",
              "      <th>date</th>\n",
              "      <th>total_cases</th>\n",
              "      <th>new_cases</th>\n",
              "      <th>total_deaths</th>\n",
              "      <th>new_deaths</th>\n",
              "      <th>total_cases_per_million</th>\n",
              "      <th>new_cases_per_million</th>\n",
              "      <th>total_deaths_per_million</th>\n",
              "      <th>new_deaths_per_million</th>\n",
              "    </tr>\n",
              "  </thead>\n",
              "  <tbody>\n",
              "    <tr>\n",
              "      <th>0</th>\n",
              "      <td>2019-12-31</td>\n",
              "      <td>0.0</td>\n",
              "      <td>0.0</td>\n",
              "      <td>0.0</td>\n",
              "      <td>0.0</td>\n",
              "      <td>0.000</td>\n",
              "      <td>0.000</td>\n",
              "      <td>0.000</td>\n",
              "      <td>0.000</td>\n",
              "    </tr>\n",
              "    <tr>\n",
              "      <th>1</th>\n",
              "      <td>2020-01-01</td>\n",
              "      <td>0.0</td>\n",
              "      <td>0.0</td>\n",
              "      <td>0.0</td>\n",
              "      <td>0.0</td>\n",
              "      <td>0.000</td>\n",
              "      <td>0.000</td>\n",
              "      <td>0.000</td>\n",
              "      <td>0.000</td>\n",
              "    </tr>\n",
              "    <tr>\n",
              "      <th>2</th>\n",
              "      <td>2020-01-02</td>\n",
              "      <td>0.0</td>\n",
              "      <td>0.0</td>\n",
              "      <td>0.0</td>\n",
              "      <td>0.0</td>\n",
              "      <td>0.000</td>\n",
              "      <td>0.000</td>\n",
              "      <td>0.000</td>\n",
              "      <td>0.000</td>\n",
              "    </tr>\n",
              "    <tr>\n",
              "      <th>3</th>\n",
              "      <td>2020-01-03</td>\n",
              "      <td>0.0</td>\n",
              "      <td>0.0</td>\n",
              "      <td>0.0</td>\n",
              "      <td>0.0</td>\n",
              "      <td>0.000</td>\n",
              "      <td>0.000</td>\n",
              "      <td>0.000</td>\n",
              "      <td>0.000</td>\n",
              "    </tr>\n",
              "    <tr>\n",
              "      <th>4</th>\n",
              "      <td>2020-01-04</td>\n",
              "      <td>0.0</td>\n",
              "      <td>0.0</td>\n",
              "      <td>0.0</td>\n",
              "      <td>0.0</td>\n",
              "      <td>0.000</td>\n",
              "      <td>0.000</td>\n",
              "      <td>0.000</td>\n",
              "      <td>0.000</td>\n",
              "    </tr>\n",
              "    <tr>\n",
              "      <th>...</th>\n",
              "      <td>...</td>\n",
              "      <td>...</td>\n",
              "      <td>...</td>\n",
              "      <td>...</td>\n",
              "      <td>...</td>\n",
              "      <td>...</td>\n",
              "      <td>...</td>\n",
              "      <td>...</td>\n",
              "      <td>...</td>\n",
              "    </tr>\n",
              "    <tr>\n",
              "      <th>266</th>\n",
              "      <td>2020-09-22</td>\n",
              "      <td>299506.0</td>\n",
              "      <td>1350.0</td>\n",
              "      <td>35724.0</td>\n",
              "      <td>17.0</td>\n",
              "      <td>4953.638</td>\n",
              "      <td>22.328</td>\n",
              "      <td>590.852</td>\n",
              "      <td>0.281</td>\n",
              "    </tr>\n",
              "    <tr>\n",
              "      <th>267</th>\n",
              "      <td>2020-09-23</td>\n",
              "      <td>300897.0</td>\n",
              "      <td>1391.0</td>\n",
              "      <td>35738.0</td>\n",
              "      <td>14.0</td>\n",
              "      <td>4976.644</td>\n",
              "      <td>23.006</td>\n",
              "      <td>591.084</td>\n",
              "      <td>0.232</td>\n",
              "    </tr>\n",
              "    <tr>\n",
              "      <th>268</th>\n",
              "      <td>2020-09-24</td>\n",
              "      <td>302537.0</td>\n",
              "      <td>1640.0</td>\n",
              "      <td>35758.0</td>\n",
              "      <td>20.0</td>\n",
              "      <td>5003.769</td>\n",
              "      <td>27.125</td>\n",
              "      <td>591.414</td>\n",
              "      <td>0.331</td>\n",
              "    </tr>\n",
              "    <tr>\n",
              "      <th>269</th>\n",
              "      <td>2020-09-25</td>\n",
              "      <td>304323.0</td>\n",
              "      <td>1786.0</td>\n",
              "      <td>35781.0</td>\n",
              "      <td>23.0</td>\n",
              "      <td>5033.308</td>\n",
              "      <td>29.539</td>\n",
              "      <td>591.795</td>\n",
              "      <td>0.380</td>\n",
              "    </tr>\n",
              "    <tr>\n",
              "      <th>270</th>\n",
              "      <td>2020-09-26</td>\n",
              "      <td>306235.0</td>\n",
              "      <td>1912.0</td>\n",
              "      <td>35801.0</td>\n",
              "      <td>20.0</td>\n",
              "      <td>5064.931</td>\n",
              "      <td>31.623</td>\n",
              "      <td>592.126</td>\n",
              "      <td>0.331</td>\n",
              "    </tr>\n",
              "  </tbody>\n",
              "</table>\n",
              "<p>271 rows × 9 columns</p>\n",
              "</div>"
            ],
            "text/plain": [
              "           date  total_cases  ...  total_deaths_per_million  new_deaths_per_million\n",
              "0    2019-12-31          0.0  ...                     0.000                   0.000\n",
              "1    2020-01-01          0.0  ...                     0.000                   0.000\n",
              "2    2020-01-02          0.0  ...                     0.000                   0.000\n",
              "3    2020-01-03          0.0  ...                     0.000                   0.000\n",
              "4    2020-01-04          0.0  ...                     0.000                   0.000\n",
              "..          ...          ...  ...                       ...                     ...\n",
              "266  2020-09-22     299506.0  ...                   590.852                   0.281\n",
              "267  2020-09-23     300897.0  ...                   591.084                   0.232\n",
              "268  2020-09-24     302537.0  ...                   591.414                   0.331\n",
              "269  2020-09-25     304323.0  ...                   591.795                   0.380\n",
              "270  2020-09-26     306235.0  ...                   592.126                   0.331\n",
              "\n",
              "[271 rows x 9 columns]"
            ]
          },
          "metadata": {
            "tags": []
          },
          "execution_count": 32
        }
      ]
    },
    {
      "cell_type": "markdown",
      "metadata": {
        "id": "-78Yo7_2YOqh"
      },
      "source": [
        "## Creating Checkpoint"
      ]
    },
    {
      "cell_type": "code",
      "metadata": {
        "id": "YOFLDNqLYOqh"
      },
      "source": [
        "data_final = data_italy"
      ],
      "execution_count": null,
      "outputs": []
    },
    {
      "cell_type": "code",
      "metadata": {
        "id": "3WtyTJzAYOqk",
        "outputId": "65ab29be-7078-4dc0-bbcd-2599abea9230",
        "colab": {
          "base_uri": "https://localhost:8080/",
          "height": 299
        }
      },
      "source": [
        "data_final.head()"
      ],
      "execution_count": null,
      "outputs": [
        {
          "output_type": "execute_result",
          "data": {
            "text/html": [
              "<div>\n",
              "<style scoped>\n",
              "    .dataframe tbody tr th:only-of-type {\n",
              "        vertical-align: middle;\n",
              "    }\n",
              "\n",
              "    .dataframe tbody tr th {\n",
              "        vertical-align: top;\n",
              "    }\n",
              "\n",
              "    .dataframe thead th {\n",
              "        text-align: right;\n",
              "    }\n",
              "</style>\n",
              "<table border=\"1\" class=\"dataframe\">\n",
              "  <thead>\n",
              "    <tr style=\"text-align: right;\">\n",
              "      <th></th>\n",
              "      <th>date</th>\n",
              "      <th>total_cases</th>\n",
              "      <th>new_cases</th>\n",
              "      <th>total_deaths</th>\n",
              "      <th>new_deaths</th>\n",
              "      <th>total_cases_per_million</th>\n",
              "      <th>new_cases_per_million</th>\n",
              "      <th>total_deaths_per_million</th>\n",
              "      <th>new_deaths_per_million</th>\n",
              "    </tr>\n",
              "  </thead>\n",
              "  <tbody>\n",
              "    <tr>\n",
              "      <th>0</th>\n",
              "      <td>2019-12-31</td>\n",
              "      <td>0.0</td>\n",
              "      <td>0.0</td>\n",
              "      <td>0.0</td>\n",
              "      <td>0.0</td>\n",
              "      <td>0.0</td>\n",
              "      <td>0.0</td>\n",
              "      <td>0.0</td>\n",
              "      <td>0.0</td>\n",
              "    </tr>\n",
              "    <tr>\n",
              "      <th>1</th>\n",
              "      <td>2020-01-01</td>\n",
              "      <td>0.0</td>\n",
              "      <td>0.0</td>\n",
              "      <td>0.0</td>\n",
              "      <td>0.0</td>\n",
              "      <td>0.0</td>\n",
              "      <td>0.0</td>\n",
              "      <td>0.0</td>\n",
              "      <td>0.0</td>\n",
              "    </tr>\n",
              "    <tr>\n",
              "      <th>2</th>\n",
              "      <td>2020-01-02</td>\n",
              "      <td>0.0</td>\n",
              "      <td>0.0</td>\n",
              "      <td>0.0</td>\n",
              "      <td>0.0</td>\n",
              "      <td>0.0</td>\n",
              "      <td>0.0</td>\n",
              "      <td>0.0</td>\n",
              "      <td>0.0</td>\n",
              "    </tr>\n",
              "    <tr>\n",
              "      <th>3</th>\n",
              "      <td>2020-01-03</td>\n",
              "      <td>0.0</td>\n",
              "      <td>0.0</td>\n",
              "      <td>0.0</td>\n",
              "      <td>0.0</td>\n",
              "      <td>0.0</td>\n",
              "      <td>0.0</td>\n",
              "      <td>0.0</td>\n",
              "      <td>0.0</td>\n",
              "    </tr>\n",
              "    <tr>\n",
              "      <th>4</th>\n",
              "      <td>2020-01-04</td>\n",
              "      <td>0.0</td>\n",
              "      <td>0.0</td>\n",
              "      <td>0.0</td>\n",
              "      <td>0.0</td>\n",
              "      <td>0.0</td>\n",
              "      <td>0.0</td>\n",
              "      <td>0.0</td>\n",
              "      <td>0.0</td>\n",
              "    </tr>\n",
              "  </tbody>\n",
              "</table>\n",
              "</div>"
            ],
            "text/plain": [
              "         date  total_cases  ...  total_deaths_per_million  new_deaths_per_million\n",
              "0  2019-12-31          0.0  ...                       0.0                     0.0\n",
              "1  2020-01-01          0.0  ...                       0.0                     0.0\n",
              "2  2020-01-02          0.0  ...                       0.0                     0.0\n",
              "3  2020-01-03          0.0  ...                       0.0                     0.0\n",
              "4  2020-01-04          0.0  ...                       0.0                     0.0\n",
              "\n",
              "[5 rows x 9 columns]"
            ]
          },
          "metadata": {
            "tags": []
          },
          "execution_count": 34
        }
      ]
    },
    {
      "cell_type": "code",
      "metadata": {
        "scrolled": true,
        "id": "xYK8BircYOqn",
        "outputId": "8174e667-7173-44d2-9a77-58cc1f668b29",
        "colab": {
          "base_uri": "https://localhost:8080/",
          "height": 286
        }
      },
      "source": [
        "data_final.info()"
      ],
      "execution_count": null,
      "outputs": [
        {
          "output_type": "stream",
          "text": [
            "<class 'pandas.core.frame.DataFrame'>\n",
            "RangeIndex: 271 entries, 0 to 270\n",
            "Data columns (total 9 columns):\n",
            " #   Column                    Non-Null Count  Dtype  \n",
            "---  ------                    --------------  -----  \n",
            " 0   date                      271 non-null    object \n",
            " 1   total_cases               271 non-null    float64\n",
            " 2   new_cases                 271 non-null    float64\n",
            " 3   total_deaths              271 non-null    float64\n",
            " 4   new_deaths                271 non-null    float64\n",
            " 5   total_cases_per_million   271 non-null    float64\n",
            " 6   new_cases_per_million     271 non-null    float64\n",
            " 7   total_deaths_per_million  271 non-null    float64\n",
            " 8   new_deaths_per_million    271 non-null    float64\n",
            "dtypes: float64(8), object(1)\n",
            "memory usage: 19.2+ KB\n"
          ],
          "name": "stdout"
        }
      ]
    },
    {
      "cell_type": "code",
      "metadata": {
        "id": "MOPH_rU5YOqo",
        "outputId": "14c9bc1a-6176-4368-e5d2-e0ebe6ab4207",
        "colab": {
          "base_uri": "https://localhost:8080/",
          "height": 286
        }
      },
      "source": [
        "# saving dates in a variable before converting date column to datetime dtype\n",
        "# ploting will be easier with this\n",
        "dates = data_final['date'].tolist()\n",
        "data_final['date'] = pd.to_datetime(data_final['date'], format='%Y-%m-%d')\n",
        "data_final.info()"
      ],
      "execution_count": null,
      "outputs": [
        {
          "output_type": "stream",
          "text": [
            "<class 'pandas.core.frame.DataFrame'>\n",
            "RangeIndex: 271 entries, 0 to 270\n",
            "Data columns (total 9 columns):\n",
            " #   Column                    Non-Null Count  Dtype         \n",
            "---  ------                    --------------  -----         \n",
            " 0   date                      271 non-null    datetime64[ns]\n",
            " 1   total_cases               271 non-null    float64       \n",
            " 2   new_cases                 271 non-null    float64       \n",
            " 3   total_deaths              271 non-null    float64       \n",
            " 4   new_deaths                271 non-null    float64       \n",
            " 5   total_cases_per_million   271 non-null    float64       \n",
            " 6   new_cases_per_million     271 non-null    float64       \n",
            " 7   total_deaths_per_million  271 non-null    float64       \n",
            " 8   new_deaths_per_million    271 non-null    float64       \n",
            "dtypes: datetime64[ns](1), float64(8)\n",
            "memory usage: 19.2 KB\n"
          ],
          "name": "stdout"
        }
      ]
    },
    {
      "cell_type": "code",
      "metadata": {
        "id": "0jMdY0omYOqq",
        "outputId": "43919803-4d1d-46c3-be40-7b9df24eb4f3",
        "colab": {
          "base_uri": "https://localhost:8080/",
          "height": 304
        }
      },
      "source": [
        "data_final.describe()"
      ],
      "execution_count": null,
      "outputs": [
        {
          "output_type": "execute_result",
          "data": {
            "text/html": [
              "<div>\n",
              "<style scoped>\n",
              "    .dataframe tbody tr th:only-of-type {\n",
              "        vertical-align: middle;\n",
              "    }\n",
              "\n",
              "    .dataframe tbody tr th {\n",
              "        vertical-align: top;\n",
              "    }\n",
              "\n",
              "    .dataframe thead th {\n",
              "        text-align: right;\n",
              "    }\n",
              "</style>\n",
              "<table border=\"1\" class=\"dataframe\">\n",
              "  <thead>\n",
              "    <tr style=\"text-align: right;\">\n",
              "      <th></th>\n",
              "      <th>total_cases</th>\n",
              "      <th>new_cases</th>\n",
              "      <th>total_deaths</th>\n",
              "      <th>new_deaths</th>\n",
              "      <th>total_cases_per_million</th>\n",
              "      <th>new_cases_per_million</th>\n",
              "      <th>total_deaths_per_million</th>\n",
              "      <th>new_deaths_per_million</th>\n",
              "    </tr>\n",
              "  </thead>\n",
              "  <tbody>\n",
              "    <tr>\n",
              "      <th>count</th>\n",
              "      <td>271.000000</td>\n",
              "      <td>271.000000</td>\n",
              "      <td>271.000000</td>\n",
              "      <td>271.000000</td>\n",
              "      <td>271.000000</td>\n",
              "      <td>271.000000</td>\n",
              "      <td>271.000000</td>\n",
              "      <td>271.000000</td>\n",
              "    </tr>\n",
              "    <tr>\n",
              "      <th>mean</th>\n",
              "      <td>158096.014760</td>\n",
              "      <td>1130.018450</td>\n",
              "      <td>21527.638376</td>\n",
              "      <td>132.107011</td>\n",
              "      <td>2614.807103</td>\n",
              "      <td>18.689779</td>\n",
              "      <td>356.053384</td>\n",
              "      <td>2.184952</td>\n",
              "    </tr>\n",
              "    <tr>\n",
              "      <th>std</th>\n",
              "      <td>110831.177228</td>\n",
              "      <td>1492.733025</td>\n",
              "      <td>15404.185359</td>\n",
              "      <td>220.229576</td>\n",
              "      <td>1833.076804</td>\n",
              "      <td>24.688863</td>\n",
              "      <td>254.775391</td>\n",
              "      <td>3.642467</td>\n",
              "    </tr>\n",
              "    <tr>\n",
              "      <th>min</th>\n",
              "      <td>0.000000</td>\n",
              "      <td>-148.000000</td>\n",
              "      <td>0.000000</td>\n",
              "      <td>-31.000000</td>\n",
              "      <td>0.000000</td>\n",
              "      <td>-2.448000</td>\n",
              "      <td>0.000000</td>\n",
              "      <td>-0.513000</td>\n",
              "    </tr>\n",
              "    <tr>\n",
              "      <th>25%</th>\n",
              "      <td>5259.500000</td>\n",
              "      <td>162.500000</td>\n",
              "      <td>215.000000</td>\n",
              "      <td>4.000000</td>\n",
              "      <td>86.988500</td>\n",
              "      <td>2.687500</td>\n",
              "      <td>3.556000</td>\n",
              "      <td>0.066000</td>\n",
              "    </tr>\n",
              "    <tr>\n",
              "      <th>50%</th>\n",
              "      <td>222104.000000</td>\n",
              "      <td>412.000000</td>\n",
              "      <td>31106.000000</td>\n",
              "      <td>14.000000</td>\n",
              "      <td>3673.458000</td>\n",
              "      <td>6.814000</td>\n",
              "      <td>514.473000</td>\n",
              "      <td>0.232000</td>\n",
              "    </tr>\n",
              "    <tr>\n",
              "      <th>75%</th>\n",
              "      <td>244529.000000</td>\n",
              "      <td>1458.000000</td>\n",
              "      <td>35051.500000</td>\n",
              "      <td>161.500000</td>\n",
              "      <td>4044.353500</td>\n",
              "      <td>24.114000</td>\n",
              "      <td>579.729500</td>\n",
              "      <td>2.671000</td>\n",
              "    </tr>\n",
              "    <tr>\n",
              "      <th>max</th>\n",
              "      <td>306235.000000</td>\n",
              "      <td>6557.000000</td>\n",
              "      <td>35801.000000</td>\n",
              "      <td>971.000000</td>\n",
              "      <td>5064.931000</td>\n",
              "      <td>108.449000</td>\n",
              "      <td>592.126000</td>\n",
              "      <td>16.060000</td>\n",
              "    </tr>\n",
              "  </tbody>\n",
              "</table>\n",
              "</div>"
            ],
            "text/plain": [
              "         total_cases  ...  new_deaths_per_million\n",
              "count     271.000000  ...              271.000000\n",
              "mean   158096.014760  ...                2.184952\n",
              "std    110831.177228  ...                3.642467\n",
              "min         0.000000  ...               -0.513000\n",
              "25%      5259.500000  ...                0.066000\n",
              "50%    222104.000000  ...                0.232000\n",
              "75%    244529.000000  ...                2.671000\n",
              "max    306235.000000  ...               16.060000\n",
              "\n",
              "[8 rows x 8 columns]"
            ]
          },
          "metadata": {
            "tags": []
          },
          "execution_count": 37
        }
      ]
    },
    {
      "cell_type": "markdown",
      "metadata": {
        "id": "op2ZmCp9YOqs"
      },
      "source": [
        "## Visualizing the data to get the relation between the features"
      ]
    },
    {
      "cell_type": "code",
      "metadata": {
        "scrolled": false,
        "id": "Hlcb9GXJYOqt",
        "outputId": "f166ec98-6623-4048-cd1f-c1a553d2e69a",
        "colab": {
          "base_uri": "https://localhost:8080/",
          "height": 329
        }
      },
      "source": [
        "# plotting daily cases each day with hue of new deaths each day\n",
        "f, axes = plt.subplots(nrows=1, ncols=2, figsize=(20,6))\n",
        "sns.scatterplot(x=range(data_final.shape[0]), y='new_cases', hue='new_deaths', data=data_final, palette='RdYlGn_r', ax=axes[0])\n",
        "sns.scatterplot(x=range(data_final.shape[0]), y='total_cases', hue='new_deaths', data=data_final, palette='RdYlGn_r', ax=axes[1])\n",
        "axes[0].set_xlabel('Day', size=18)\n",
        "axes[0].set_ylabel('New Cases', size=18)\n",
        "axes[1].set_xlabel('Day', size=18)\n",
        "axes[1].set_ylabel('Total Cases', size=18)\n",
        "plt.show()"
      ],
      "execution_count": null,
      "outputs": [
        {
          "output_type": "display_data",
          "data": {
            "image/png": "[encoded data removed]",
            "text/plain": [
              "<Figure size 1440x432 with 2 Axes>"
            ]
          },
          "metadata": {
            "tags": []
          }
        }
      ]
    },
    {
      "cell_type": "markdown",
      "metadata": {
        "id": "3A1xJPVbYOqw"
      },
      "source": [
        "We can see that after day 50, the number of new cases increased tremendously, therfore the total cases curve is very steep.<br>\n",
        "As obvious, number of people dying per day also incresed with increasing new cases.<br>\n",
        "(The red color shows high deaths per day while green shows low deaths per day).<br><br>\n",
        "Then the new cases again starts to decrease after day 90, but its still high. New deaths each day also starts to decrease.<br><br>\n",
        "After day 150, we can see a stable condition where new cases and new deaths are very low.<br><br>\n",
        "But after day 220, there is a sudden increase in cases again, but the deaths per day seems to be controlled this time."
      ]
    },
    {
      "cell_type": "code",
      "metadata": {
        "id": "qZWaVraQYOqw",
        "outputId": "13989faa-f231-409e-df1b-7f79fd7a2261",
        "colab": {
          "base_uri": "https://localhost:8080/",
          "height": 398
        }
      },
      "source": [
        "# plotting new deaths and new cases\n",
        "f, axes = plt.subplots(nrows=1, ncols=2, figsize=(18,7))\n",
        "axes[0].plot(data_final['new_cases'], label='New cases')\n",
        "axes[0].plot(data_final['new_deaths'], label='New deaths', color='r')\n",
        "axes[0].legend()\n",
        "\n",
        "axes[1].plot(data_final['total_cases'], label='Total cases')\n",
        "axes[1].plot(data_final['total_deaths'], label='Total deaths', color='r')\n",
        "axes[1].legend()\n",
        "plt.show()"
      ],
      "execution_count": null,
      "outputs": [
        {
          "output_type": "display_data",
          "data": {
            "image/png": "[encoded data removed]",
            "text/plain": [
              "<Figure size 1296x504 with 2 Axes>"
            ]
          },
          "metadata": {
            "tags": []
          }
        }
      ]
    },
    {
      "cell_type": "markdown",
      "metadata": {
        "id": "ddqUOaabYOqz"
      },
      "source": [
        "It is clear from the first graph that even though the new cases are increasing again (after day 200), the deaths are still very low.<br><br>\n",
        "In the second graph we can see that tha total number of cases are again increasing rapidly (after day 200) but the total deaths curve is flattened now indicating decrease in death rate due to covid-19."
      ]
    },
    {
      "cell_type": "markdown",
      "metadata": {
        "id": "Mr3fujSxYOqz"
      },
      "source": [
        "# Time series forecasting\n",
        "## Importing FbProphet"
      ]
    },
    {
      "cell_type": "code",
      "metadata": {
        "id": "SSWxdyZTYOq0"
      },
      "source": [
        "from fbprophet import Prophet"
      ],
      "execution_count": null,
      "outputs": []
    },
    {
      "cell_type": "markdown",
      "metadata": {
        "id": "_GDI6sspYOq2"
      },
      "source": [
        "#### Creating a dataframe for new cases."
      ]
    },
    {
      "cell_type": "code",
      "metadata": {
        "id": "fjggrs8RYOq2"
      },
      "source": [
        "new_cases_df = data_final[['date','new_cases']]\n",
        "new_cases_df.columns = ['ds', 'y']"
      ],
      "execution_count": null,
      "outputs": []
    },
    {
      "cell_type": "code",
      "metadata": {
        "scrolled": true,
        "id": "qTDaKXwZYOq5",
        "outputId": "c0e98276-778b-4790-fa75-9834f7dd2664",
        "colab": {
          "base_uri": "https://localhost:8080/",
          "height": 195
        }
      },
      "source": [
        "new_cases_df.head()"
      ],
      "execution_count": null,
      "outputs": [
        {
          "output_type": "execute_result",
          "data": {
            "text/html": [
              "<div>\n",
              "<style scoped>\n",
              "    .dataframe tbody tr th:only-of-type {\n",
              "        vertical-align: middle;\n",
              "    }\n",
              "\n",
              "    .dataframe tbody tr th {\n",
              "        vertical-align: top;\n",
              "    }\n",
              "\n",
              "    .dataframe thead th {\n",
              "        text-align: right;\n",
              "    }\n",
              "</style>\n",
              "<table border=\"1\" class=\"dataframe\">\n",
              "  <thead>\n",
              "    <tr style=\"text-align: right;\">\n",
              "      <th></th>\n",
              "      <th>ds</th>\n",
              "      <th>y</th>\n",
              "    </tr>\n",
              "  </thead>\n",
              "  <tbody>\n",
              "    <tr>\n",
              "      <th>0</th>\n",
              "      <td>2019-12-31</td>\n",
              "      <td>0.0</td>\n",
              "    </tr>\n",
              "    <tr>\n",
              "      <th>1</th>\n",
              "      <td>2020-01-01</td>\n",
              "      <td>0.0</td>\n",
              "    </tr>\n",
              "    <tr>\n",
              "      <th>2</th>\n",
              "      <td>2020-01-02</td>\n",
              "      <td>0.0</td>\n",
              "    </tr>\n",
              "    <tr>\n",
              "      <th>3</th>\n",
              "      <td>2020-01-03</td>\n",
              "      <td>0.0</td>\n",
              "    </tr>\n",
              "    <tr>\n",
              "      <th>4</th>\n",
              "      <td>2020-01-04</td>\n",
              "      <td>0.0</td>\n",
              "    </tr>\n",
              "  </tbody>\n",
              "</table>\n",
              "</div>"
            ],
            "text/plain": [
              "          ds    y\n",
              "0 2019-12-31  0.0\n",
              "1 2020-01-01  0.0\n",
              "2 2020-01-02  0.0\n",
              "3 2020-01-03  0.0\n",
              "4 2020-01-04  0.0"
            ]
          },
          "metadata": {
            "tags": []
          },
          "execution_count": 42
        }
      ]
    },
    {
      "cell_type": "code",
      "metadata": {
        "id": "ErbNrH3AYOq7",
        "outputId": "9a73ed6a-a62c-481b-b8b0-00201f05cb62",
        "colab": {
          "base_uri": "https://localhost:8080/",
          "height": 84
        }
      },
      "source": [
        "m = Prophet()\n",
        "m.fit(new_cases_df)"
      ],
      "execution_count": null,
      "outputs": [
        {
          "output_type": "stream",
          "text": [
            "INFO:numexpr.utils:NumExpr defaulting to 2 threads.\n",
            "INFO:fbprophet:Disabling yearly seasonality. Run prophet with yearly_seasonality=True to override this.\n",
            "INFO:fbprophet:Disabling daily seasonality. Run prophet with daily_seasonality=True to override this.\n"
          ],
          "name": "stderr"
        },
        {
          "output_type": "execute_result",
          "data": {
            "text/plain": [
              "<fbprophet.forecaster.Prophet at 0x7f4b5cdb9cf8>"
            ]
          },
          "metadata": {
            "tags": []
          },
          "execution_count": 43
        }
      ]
    },
    {
      "cell_type": "code",
      "metadata": {
        "id": "2qczpPf4YOq-",
        "outputId": "87458904-b210-4cdd-9338-bda12a74b757",
        "colab": {
          "base_uri": "https://localhost:8080/",
          "height": 195
        }
      },
      "source": [
        "future = m.make_future_dataframe(60,'D')\n",
        "future.tail()"
      ],
      "execution_count": null,
      "outputs": [
        {
          "output_type": "execute_result",
          "data": {
            "text/html": [
              "<div>\n",
              "<style scoped>\n",
              "    .dataframe tbody tr th:only-of-type {\n",
              "        vertical-align: middle;\n",
              "    }\n",
              "\n",
              "    .dataframe tbody tr th {\n",
              "        vertical-align: top;\n",
              "    }\n",
              "\n",
              "    .dataframe thead th {\n",
              "        text-align: right;\n",
              "    }\n",
              "</style>\n",
              "<table border=\"1\" class=\"dataframe\">\n",
              "  <thead>\n",
              "    <tr style=\"text-align: right;\">\n",
              "      <th></th>\n",
              "      <th>ds</th>\n",
              "    </tr>\n",
              "  </thead>\n",
              "  <tbody>\n",
              "    <tr>\n",
              "      <th>326</th>\n",
              "      <td>2020-11-21</td>\n",
              "    </tr>\n",
              "    <tr>\n",
              "      <th>327</th>\n",
              "      <td>2020-11-22</td>\n",
              "    </tr>\n",
              "    <tr>\n",
              "      <th>328</th>\n",
              "      <td>2020-11-23</td>\n",
              "    </tr>\n",
              "    <tr>\n",
              "      <th>329</th>\n",
              "      <td>2020-11-24</td>\n",
              "    </tr>\n",
              "    <tr>\n",
              "      <th>330</th>\n",
              "      <td>2020-11-25</td>\n",
              "    </tr>\n",
              "  </tbody>\n",
              "</table>\n",
              "</div>"
            ],
            "text/plain": [
              "            ds\n",
              "326 2020-11-21\n",
              "327 2020-11-22\n",
              "328 2020-11-23\n",
              "329 2020-11-24\n",
              "330 2020-11-25"
            ]
          },
          "metadata": {
            "tags": []
          },
          "execution_count": 53
        }
      ]
    },
    {
      "cell_type": "code",
      "metadata": {
        "id": "J8rqOkIeYOq_",
        "outputId": "500394c6-109d-4618-f22f-2140e1558093",
        "colab": {
          "base_uri": "https://localhost:8080/",
          "height": 195
        }
      },
      "source": [
        "forecast = m.predict(future)\n",
        "forecast[['ds', 'yhat', 'yhat_lower', 'yhat_upper']].tail()"
      ],
      "execution_count": null,
      "outputs": [
        {
          "output_type": "execute_result",
          "data": {
            "text/html": [
              "<div>\n",
              "<style scoped>\n",
              "    .dataframe tbody tr th:only-of-type {\n",
              "        vertical-align: middle;\n",
              "    }\n",
              "\n",
              "    .dataframe tbody tr th {\n",
              "        vertical-align: top;\n",
              "    }\n",
              "\n",
              "    .dataframe thead th {\n",
              "        text-align: right;\n",
              "    }\n",
              "</style>\n",
              "<table border=\"1\" class=\"dataframe\">\n",
              "  <thead>\n",
              "    <tr style=\"text-align: right;\">\n",
              "      <th></th>\n",
              "      <th>ds</th>\n",
              "      <th>yhat</th>\n",
              "      <th>yhat_lower</th>\n",
              "      <th>yhat_upper</th>\n",
              "    </tr>\n",
              "  </thead>\n",
              "  <tbody>\n",
              "    <tr>\n",
              "      <th>326</th>\n",
              "      <td>2020-11-21</td>\n",
              "      <td>1872.292784</td>\n",
              "      <td>473.442097</td>\n",
              "      <td>3181.450827</td>\n",
              "    </tr>\n",
              "    <tr>\n",
              "      <th>327</th>\n",
              "      <td>2020-11-22</td>\n",
              "      <td>1904.887126</td>\n",
              "      <td>611.615427</td>\n",
              "      <td>3179.635076</td>\n",
              "    </tr>\n",
              "    <tr>\n",
              "      <th>328</th>\n",
              "      <td>2020-11-23</td>\n",
              "      <td>1769.400893</td>\n",
              "      <td>371.250699</td>\n",
              "      <td>3119.685194</td>\n",
              "    </tr>\n",
              "    <tr>\n",
              "      <th>329</th>\n",
              "      <td>2020-11-24</td>\n",
              "      <td>1621.566969</td>\n",
              "      <td>253.331377</td>\n",
              "      <td>3050.346951</td>\n",
              "    </tr>\n",
              "    <tr>\n",
              "      <th>330</th>\n",
              "      <td>2020-11-25</td>\n",
              "      <td>1645.419080</td>\n",
              "      <td>280.647072</td>\n",
              "      <td>3059.136803</td>\n",
              "    </tr>\n",
              "  </tbody>\n",
              "</table>\n",
              "</div>"
            ],
            "text/plain": [
              "            ds         yhat  yhat_lower   yhat_upper\n",
              "326 2020-11-21  1872.292784  473.442097  3181.450827\n",
              "327 2020-11-22  1904.887126  611.615427  3179.635076\n",
              "328 2020-11-23  1769.400893  371.250699  3119.685194\n",
              "329 2020-11-24  1621.566969  253.331377  3050.346951\n",
              "330 2020-11-25  1645.419080  280.647072  3059.136803"
            ]
          },
          "metadata": {
            "tags": []
          },
          "execution_count": 45
        }
      ]
    },
    {
      "cell_type": "code",
      "metadata": {
        "id": "TtSsXw-wYOrC",
        "outputId": "71c75fba-cebb-4249-b578-ce8039930219",
        "colab": {
          "base_uri": "https://localhost:8080/",
          "height": 437
        }
      },
      "source": [
        "fig1 = m.plot(forecast,xlabel='Date',ylabel='new_cases')"
      ],
      "execution_count": null,
      "outputs": [
        {
          "output_type": "display_data",
          "data": {
            "image/png": "[encoded data removed]",
            "text/plain": [
              "<Figure size 720x432 with 1 Axes>"
            ]
          },
          "metadata": {
            "tags": []
          }
        }
      ]
    },
    {
      "cell_type": "markdown",
      "metadata": {
        "id": "52CDqGhgYOrE"
      },
      "source": [
        "#### Creating a dataframe for new deaths"
      ]
    },
    {
      "cell_type": "code",
      "metadata": {
        "id": "BppNamOTYOrF"
      },
      "source": [
        "new_deaths_df = data_final[['date','new_deaths']]\n",
        "new_deaths_df.columns = ['ds', 'y']"
      ],
      "execution_count": null,
      "outputs": []
    },
    {
      "cell_type": "code",
      "metadata": {
        "id": "bB_E5vUpYOrI",
        "outputId": "19d77b4d-eb1b-4630-dde6-31e8521f2997",
        "colab": {
          "base_uri": "https://localhost:8080/",
          "height": 195
        }
      },
      "source": [
        "new_deaths_df.tail()"
      ],
      "execution_count": null,
      "outputs": [
        {
          "output_type": "execute_result",
          "data": {
            "text/html": [
              "<div>\n",
              "<style scoped>\n",
              "    .dataframe tbody tr th:only-of-type {\n",
              "        vertical-align: middle;\n",
              "    }\n",
              "\n",
              "    .dataframe tbody tr th {\n",
              "        vertical-align: top;\n",
              "    }\n",
              "\n",
              "    .dataframe thead th {\n",
              "        text-align: right;\n",
              "    }\n",
              "</style>\n",
              "<table border=\"1\" class=\"dataframe\">\n",
              "  <thead>\n",
              "    <tr style=\"text-align: right;\">\n",
              "      <th></th>\n",
              "      <th>ds</th>\n",
              "      <th>y</th>\n",
              "    </tr>\n",
              "  </thead>\n",
              "  <tbody>\n",
              "    <tr>\n",
              "      <th>266</th>\n",
              "      <td>2020-09-22</td>\n",
              "      <td>17.0</td>\n",
              "    </tr>\n",
              "    <tr>\n",
              "      <th>267</th>\n",
              "      <td>2020-09-23</td>\n",
              "      <td>14.0</td>\n",
              "    </tr>\n",
              "    <tr>\n",
              "      <th>268</th>\n",
              "      <td>2020-09-24</td>\n",
              "      <td>20.0</td>\n",
              "    </tr>\n",
              "    <tr>\n",
              "      <th>269</th>\n",
              "      <td>2020-09-25</td>\n",
              "      <td>23.0</td>\n",
              "    </tr>\n",
              "    <tr>\n",
              "      <th>270</th>\n",
              "      <td>2020-09-26</td>\n",
              "      <td>20.0</td>\n",
              "    </tr>\n",
              "  </tbody>\n",
              "</table>\n",
              "</div>"
            ],
            "text/plain": [
              "            ds     y\n",
              "266 2020-09-22  17.0\n",
              "267 2020-09-23  14.0\n",
              "268 2020-09-24  20.0\n",
              "269 2020-09-25  23.0\n",
              "270 2020-09-26  20.0"
            ]
          },
          "metadata": {
            "tags": []
          },
          "execution_count": 48
        }
      ]
    },
    {
      "cell_type": "code",
      "metadata": {
        "id": "sNkoWnp-YOrM",
        "outputId": "6b68de09-0460-48e4-c0e7-75fc3c5cf6ec",
        "colab": {
          "base_uri": "https://localhost:8080/",
          "height": 67
        }
      },
      "source": [
        "m2 = Prophet()\n",
        "m2.fit(new_deaths_df)"
      ],
      "execution_count": null,
      "outputs": [
        {
          "output_type": "stream",
          "text": [
            "INFO:fbprophet:Disabling yearly seasonality. Run prophet with yearly_seasonality=True to override this.\n",
            "INFO:fbprophet:Disabling daily seasonality. Run prophet with daily_seasonality=True to override this.\n"
          ],
          "name": "stderr"
        },
        {
          "output_type": "execute_result",
          "data": {
            "text/plain": [
              "<fbprophet.forecaster.Prophet at 0x7f4b5a1c4ef0>"
            ]
          },
          "metadata": {
            "tags": []
          },
          "execution_count": 49
        }
      ]
    },
    {
      "cell_type": "code",
      "metadata": {
        "id": "EAxeOvg-bTrw",
        "outputId": "ea3c92d2-8465-4515-ab4f-a1799dce2ac7",
        "colab": {
          "base_uri": "https://localhost:8080/",
          "height": 195
        }
      },
      "source": [
        "future = m.make_future_dataframe(90,'H')\n",
        "future.tail()"
      ],
      "execution_count": null,
      "outputs": [
        {
          "output_type": "execute_result",
          "data": {
            "text/html": [
              "<div>\n",
              "<style scoped>\n",
              "    .dataframe tbody tr th:only-of-type {\n",
              "        vertical-align: middle;\n",
              "    }\n",
              "\n",
              "    .dataframe tbody tr th {\n",
              "        vertical-align: top;\n",
              "    }\n",
              "\n",
              "    .dataframe thead th {\n",
              "        text-align: right;\n",
              "    }\n",
              "</style>\n",
              "<table border=\"1\" class=\"dataframe\">\n",
              "  <thead>\n",
              "    <tr style=\"text-align: right;\">\n",
              "      <th></th>\n",
              "      <th>ds</th>\n",
              "    </tr>\n",
              "  </thead>\n",
              "  <tbody>\n",
              "    <tr>\n",
              "      <th>356</th>\n",
              "      <td>2020-09-29 14:00:00</td>\n",
              "    </tr>\n",
              "    <tr>\n",
              "      <th>357</th>\n",
              "      <td>2020-09-29 15:00:00</td>\n",
              "    </tr>\n",
              "    <tr>\n",
              "      <th>358</th>\n",
              "      <td>2020-09-29 16:00:00</td>\n",
              "    </tr>\n",
              "    <tr>\n",
              "      <th>359</th>\n",
              "      <td>2020-09-29 17:00:00</td>\n",
              "    </tr>\n",
              "    <tr>\n",
              "      <th>360</th>\n",
              "      <td>2020-09-29 18:00:00</td>\n",
              "    </tr>\n",
              "  </tbody>\n",
              "</table>\n",
              "</div>"
            ],
            "text/plain": [
              "                     ds\n",
              "356 2020-09-29 14:00:00\n",
              "357 2020-09-29 15:00:00\n",
              "358 2020-09-29 16:00:00\n",
              "359 2020-09-29 17:00:00\n",
              "360 2020-09-29 18:00:00"
            ]
          },
          "metadata": {
            "tags": []
          },
          "execution_count": 62
        }
      ]
    },
    {
      "cell_type": "code",
      "metadata": {
        "id": "2h2YfNmNYOrQ",
        "outputId": "7a5d0b46-1981-4e02-a0d9-68fc92953219",
        "colab": {
          "base_uri": "https://localhost:8080/",
          "height": 195
        }
      },
      "source": [
        "forecast2 = m2.predict(future)\n",
        "forecast2[['ds', 'yhat', 'yhat_lower', 'yhat_upper']].tail()"
      ],
      "execution_count": null,
      "outputs": [
        {
          "output_type": "execute_result",
          "data": {
            "text/html": [
              "<div>\n",
              "<style scoped>\n",
              "    .dataframe tbody tr th:only-of-type {\n",
              "        vertical-align: middle;\n",
              "    }\n",
              "\n",
              "    .dataframe tbody tr th {\n",
              "        vertical-align: top;\n",
              "    }\n",
              "\n",
              "    .dataframe thead th {\n",
              "        text-align: right;\n",
              "    }\n",
              "</style>\n",
              "<table border=\"1\" class=\"dataframe\">\n",
              "  <thead>\n",
              "    <tr style=\"text-align: right;\">\n",
              "      <th></th>\n",
              "      <th>ds</th>\n",
              "      <th>yhat</th>\n",
              "      <th>yhat_lower</th>\n",
              "      <th>yhat_upper</th>\n",
              "    </tr>\n",
              "  </thead>\n",
              "  <tbody>\n",
              "    <tr>\n",
              "      <th>356</th>\n",
              "      <td>2020-09-29 14:00:00</td>\n",
              "      <td>-56.652515</td>\n",
              "      <td>-234.278040</td>\n",
              "      <td>114.718572</td>\n",
              "    </tr>\n",
              "    <tr>\n",
              "      <th>357</th>\n",
              "      <td>2020-09-29 15:00:00</td>\n",
              "      <td>-56.327071</td>\n",
              "      <td>-234.027164</td>\n",
              "      <td>117.879419</td>\n",
              "    </tr>\n",
              "    <tr>\n",
              "      <th>358</th>\n",
              "      <td>2020-09-29 16:00:00</td>\n",
              "      <td>-56.064908</td>\n",
              "      <td>-219.784948</td>\n",
              "      <td>119.683857</td>\n",
              "    </tr>\n",
              "    <tr>\n",
              "      <th>359</th>\n",
              "      <td>2020-09-29 17:00:00</td>\n",
              "      <td>-55.864016</td>\n",
              "      <td>-235.002384</td>\n",
              "      <td>112.209413</td>\n",
              "    </tr>\n",
              "    <tr>\n",
              "      <th>360</th>\n",
              "      <td>2020-09-29 18:00:00</td>\n",
              "      <td>-55.721854</td>\n",
              "      <td>-230.440417</td>\n",
              "      <td>112.551352</td>\n",
              "    </tr>\n",
              "  </tbody>\n",
              "</table>\n",
              "</div>"
            ],
            "text/plain": [
              "                     ds       yhat  yhat_lower  yhat_upper\n",
              "356 2020-09-29 14:00:00 -56.652515 -234.278040  114.718572\n",
              "357 2020-09-29 15:00:00 -56.327071 -234.027164  117.879419\n",
              "358 2020-09-29 16:00:00 -56.064908 -219.784948  119.683857\n",
              "359 2020-09-29 17:00:00 -55.864016 -235.002384  112.209413\n",
              "360 2020-09-29 18:00:00 -55.721854 -230.440417  112.551352"
            ]
          },
          "metadata": {
            "tags": []
          },
          "execution_count": 63
        }
      ]
    },
    {
      "cell_type": "code",
      "metadata": {
        "id": "_0I9dFwrYOrS",
        "outputId": "95fee8e7-8069-4029-9b36-030441267ecc",
        "colab": {
          "base_uri": "https://localhost:8080/",
          "height": 437
        }
      },
      "source": [
        "fig1 = m2.plot(forecast2,xlabel='Date',ylabel='new_deaths')"
      ],
      "execution_count": null,
      "outputs": [
        {
          "output_type": "display_data",
          "data": {
            "image/png": "[encoded data removed]",
            "text/plain": [
              "<Figure size 720x432 with 1 Axes>"
            ]
          },
          "metadata": {
            "tags": []
          }
        }
      ]
    },
    {
      "cell_type": "code",
      "metadata": {
        "id": "GbHdHrLJYOrU"
      },
      "source": [
        ""
      ],
      "execution_count": null,
      "outputs": []
    }
  ]
}